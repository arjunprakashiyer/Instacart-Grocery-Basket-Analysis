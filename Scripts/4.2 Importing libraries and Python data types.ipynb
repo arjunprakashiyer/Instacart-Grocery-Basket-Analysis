{
 "cells": [
  {
   "cell_type": "markdown",
   "id": "43721f1f",
   "metadata": {},
   "source": [
    "# 01. Importing Headers"
   ]
  },
  {
   "cell_type": "code",
   "execution_count": 2,
   "id": "42e363f3",
   "metadata": {},
   "outputs": [],
   "source": [
    "# Importing all the packages\n",
    "import numpy\n",
    "import pandas\n",
    "import os"
   ]
  },
  {
   "cell_type": "markdown",
   "id": "0cb7a697",
   "metadata": {},
   "source": [
    "## 02. Python Data types"
   ]
  },
  {
   "cell_type": "code",
   "execution_count": 3,
   "id": "eb8dd841",
   "metadata": {},
   "outputs": [],
   "source": [
    "x = 10"
   ]
  },
  {
   "cell_type": "code",
   "execution_count": 4,
   "id": "3cc8d2cb",
   "metadata": {},
   "outputs": [],
   "source": [
    "y = 10"
   ]
  },
  {
   "cell_type": "code",
   "execution_count": 5,
   "id": "9acce3a8",
   "metadata": {},
   "outputs": [],
   "source": [
    "result = x * y"
   ]
  },
  {
   "cell_type": "code",
   "execution_count": 6,
   "id": "78d53815",
   "metadata": {},
   "outputs": [
    {
     "data": {
      "text/plain": [
       "100"
      ]
     },
     "execution_count": 6,
     "metadata": {},
     "output_type": "execute_result"
    }
   ],
   "source": [
    "result"
   ]
  },
  {
   "cell_type": "code",
   "execution_count": 7,
   "id": "06d03b35",
   "metadata": {},
   "outputs": [],
   "source": [
    "a = 40"
   ]
  },
  {
   "cell_type": "code",
   "execution_count": 8,
   "id": "d9acd8a0",
   "metadata": {},
   "outputs": [],
   "source": [
    "b = 60"
   ]
  },
  {
   "cell_type": "code",
   "execution_count": 9,
   "id": "e2640cef",
   "metadata": {},
   "outputs": [],
   "source": [
    "result = a + b"
   ]
  },
  {
   "cell_type": "code",
   "execution_count": 10,
   "id": "b6293cb9",
   "metadata": {},
   "outputs": [
    {
     "data": {
      "text/plain": [
       "100"
      ]
     },
     "execution_count": 10,
     "metadata": {},
     "output_type": "execute_result"
    }
   ],
   "source": [
    "result"
   ]
  },
  {
   "cell_type": "code",
   "execution_count": 11,
   "id": "e2284e9d",
   "metadata": {},
   "outputs": [],
   "source": [
    "y = 135 "
   ]
  },
  {
   "cell_type": "code",
   "execution_count": 12,
   "id": "2f84123a",
   "metadata": {},
   "outputs": [],
   "source": [
    "x = 35"
   ]
  },
  {
   "cell_type": "code",
   "execution_count": 13,
   "id": "983977cf",
   "metadata": {},
   "outputs": [],
   "source": [
    "result = y - x"
   ]
  },
  {
   "cell_type": "code",
   "execution_count": 14,
   "id": "51d9361e",
   "metadata": {},
   "outputs": [
    {
     "data": {
      "text/plain": [
       "100"
      ]
     },
     "execution_count": 14,
     "metadata": {},
     "output_type": "execute_result"
    }
   ],
   "source": [
    "result"
   ]
  },
  {
   "cell_type": "code",
   "execution_count": 15,
   "id": "061eb0b2",
   "metadata": {},
   "outputs": [],
   "source": [
    "float1 = 30.0"
   ]
  },
  {
   "cell_type": "code",
   "execution_count": 16,
   "id": "bee49fc7",
   "metadata": {},
   "outputs": [],
   "source": [
    "float2 = 3.0"
   ]
  },
  {
   "cell_type": "code",
   "execution_count": 17,
   "id": "9fde082c",
   "metadata": {},
   "outputs": [],
   "source": [
    "final_value = float1 / float2"
   ]
  },
  {
   "cell_type": "code",
   "execution_count": 18,
   "id": "519ee6ee",
   "metadata": {},
   "outputs": [
    {
     "data": {
      "text/plain": [
       "10.0"
      ]
     },
     "execution_count": 18,
     "metadata": {},
     "output_type": "execute_result"
    }
   ],
   "source": [
    "final_value"
   ]
  },
  {
   "cell_type": "code",
   "execution_count": 19,
   "id": "8590ebd9",
   "metadata": {},
   "outputs": [],
   "source": [
    "a = 'Hello '"
   ]
  },
  {
   "cell_type": "code",
   "execution_count": 20,
   "id": "80d3fdb7",
   "metadata": {},
   "outputs": [],
   "source": [
    "b = 'World'"
   ]
  },
  {
   "cell_type": "code",
   "execution_count": 21,
   "id": "80d6d2d6",
   "metadata": {},
   "outputs": [],
   "source": [
    "result = a + b"
   ]
  },
  {
   "cell_type": "code",
   "execution_count": 22,
   "id": "2e7632a8",
   "metadata": {},
   "outputs": [
    {
     "data": {
      "text/plain": [
       "'Hello World'"
      ]
     },
     "execution_count": 22,
     "metadata": {},
     "output_type": "execute_result"
    }
   ],
   "source": [
    "result"
   ]
  },
  {
   "cell_type": "code",
   "execution_count": 23,
   "id": "4a157c5d",
   "metadata": {},
   "outputs": [],
   "source": [
    "c = 'The weather is good '"
   ]
  },
  {
   "cell_type": "code",
   "execution_count": 24,
   "id": "6d24cf47",
   "metadata": {},
   "outputs": [],
   "source": [
    "d = 'In Jaipur, India.'"
   ]
  },
  {
   "cell_type": "code",
   "execution_count": 25,
   "id": "5d6954f8",
   "metadata": {},
   "outputs": [],
   "source": [
    "result = c + d "
   ]
  },
  {
   "cell_type": "code",
   "execution_count": 26,
   "id": "1362c134",
   "metadata": {},
   "outputs": [
    {
     "data": {
      "text/plain": [
       "'The weather is good In Jaipur, India.'"
      ]
     },
     "execution_count": 26,
     "metadata": {},
     "output_type": "execute_result"
    }
   ],
   "source": [
    "result"
   ]
  },
  {
   "cell_type": "code",
   "execution_count": null,
   "id": "fbeb4f62",
   "metadata": {},
   "outputs": [],
   "source": []
  },
  {
   "cell_type": "markdown",
   "id": "3429dc03",
   "metadata": {},
   "source": [
    "## Bonus Task"
   ]
  },
  {
   "cell_type": "code",
   "execution_count": 27,
   "id": "9fd5d587",
   "metadata": {},
   "outputs": [],
   "source": [
    "str1 = 'Good'"
   ]
  },
  {
   "cell_type": "code",
   "execution_count": 28,
   "id": "424fb38f",
   "metadata": {},
   "outputs": [],
   "source": [
    "result = str1 * 100"
   ]
  },
  {
   "cell_type": "code",
   "execution_count": 29,
   "id": "7d23596b",
   "metadata": {},
   "outputs": [
    {
     "data": {
      "text/plain": [
       "'GoodGoodGoodGoodGoodGoodGoodGoodGoodGoodGoodGoodGoodGoodGoodGoodGoodGoodGoodGoodGoodGoodGoodGoodGoodGoodGoodGoodGoodGoodGoodGoodGoodGoodGoodGoodGoodGoodGoodGoodGoodGoodGoodGoodGoodGoodGoodGoodGoodGoodGoodGoodGoodGoodGoodGoodGoodGoodGoodGoodGoodGoodGoodGoodGoodGoodGoodGoodGoodGoodGoodGoodGoodGoodGoodGoodGoodGoodGoodGoodGoodGoodGoodGoodGoodGoodGoodGoodGoodGoodGoodGoodGoodGoodGoodGoodGoodGoodGoodGood'"
      ]
     },
     "execution_count": 29,
     "metadata": {},
     "output_type": "execute_result"
    }
   ],
   "source": [
    "result"
   ]
  },
  {
   "cell_type": "code",
   "execution_count": null,
   "id": "aa062fbe",
   "metadata": {},
   "outputs": [],
   "source": []
  },
  {
   "cell_type": "code",
   "execution_count": null,
   "id": "9ae45b64",
   "metadata": {},
   "outputs": [],
   "source": []
  }
 ],
 "metadata": {
  "kernelspec": {
   "display_name": "Python 3 (ipykernel)",
   "language": "python",
   "name": "python3"
  },
  "language_info": {
   "codemirror_mode": {
    "name": "ipython",
    "version": 3
   },
   "file_extension": ".py",
   "mimetype": "text/x-python",
   "name": "python",
   "nbconvert_exporter": "python",
   "pygments_lexer": "ipython3",
   "version": "3.9.13"
  }
 },
 "nbformat": 4,
 "nbformat_minor": 5
}
