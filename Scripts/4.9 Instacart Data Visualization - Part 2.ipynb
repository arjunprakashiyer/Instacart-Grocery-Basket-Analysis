{
 "cells": [
  {
   "cell_type": "markdown",
   "id": "9270ee8b",
   "metadata": {},
   "source": [
    "**Steps followed in the Notebook**\n",
    "\n",
    "**1) Visualization examples of Exercise.**\n",
    "\n",
    "**2) Importing the new dataset.**\n",
    "\n",
    "**3) Questions of Stakeholders.**"
   ]
  },
  {
   "cell_type": "code",
   "execution_count": null,
   "id": "34a0aecf",
   "metadata": {},
   "outputs": [],
   "source": []
  },
  {
   "cell_type": "markdown",
   "id": "f22bcbb1",
   "metadata": {},
   "source": [
    "### Step 1"
   ]
  },
  {
   "cell_type": "code",
   "execution_count": 1,
   "id": "79c21ebc",
   "metadata": {},
   "outputs": [],
   "source": [
    "#Importing libraries\n",
    "import pandas as pd\n",
    "import numpy as np\n",
    "import os\n",
    "import matplotlib.pyplot as plt\n",
    "import seaborn as sns\n",
    "import scipy"
   ]
  },
  {
   "cell_type": "code",
   "execution_count": 2,
   "id": "2df976e2",
   "metadata": {},
   "outputs": [],
   "source": [
    "path = r'C:\\Users\\Arjun\\Documents\\Instacart Basket Analysis'"
   ]
  },
  {
   "cell_type": "code",
   "execution_count": 3,
   "id": "c8c0c32d",
   "metadata": {},
   "outputs": [
    {
     "data": {
      "text/plain": [
       "'C:\\\\Users\\\\Arjun\\\\Documents\\\\Instacart Basket Analysis'"
      ]
     },
     "execution_count": 3,
     "metadata": {},
     "output_type": "execute_result"
    }
   ],
   "source": [
    "path"
   ]
  },
  {
   "cell_type": "code",
   "execution_count": 4,
   "id": "3d49e2b7",
   "metadata": {},
   "outputs": [],
   "source": [
    "#Importing the orders_products pickle file\n",
    "ords_prods_merge = pd.read_pickle(os.path.join(path,'Data','Prepared Data','orders_products_merged_updated.pkl'))"
   ]
  },
  {
   "cell_type": "code",
   "execution_count": 5,
   "id": "023ba1e4",
   "metadata": {},
   "outputs": [
    {
     "data": {
      "text/html": [
       "<div>\n",
       "<style scoped>\n",
       "    .dataframe tbody tr th:only-of-type {\n",
       "        vertical-align: middle;\n",
       "    }\n",
       "\n",
       "    .dataframe tbody tr th {\n",
       "        vertical-align: top;\n",
       "    }\n",
       "\n",
       "    .dataframe thead th {\n",
       "        text-align: right;\n",
       "    }\n",
       "</style>\n",
       "<table border=\"1\" class=\"dataframe\">\n",
       "  <thead>\n",
       "    <tr style=\"text-align: right;\">\n",
       "      <th></th>\n",
       "      <th>order_id</th>\n",
       "      <th>user_id</th>\n",
       "      <th>order_number</th>\n",
       "      <th>order_day_of_week</th>\n",
       "      <th>order_hour_of_day</th>\n",
       "      <th>days_since_last_order</th>\n",
       "      <th>product_id</th>\n",
       "      <th>add_to_cart_order</th>\n",
       "      <th>reordered</th>\n",
       "      <th>product_name</th>\n",
       "      <th>...</th>\n",
       "      <th>price_range_loc</th>\n",
       "      <th>busiest_day</th>\n",
       "      <th>Busiest_days</th>\n",
       "      <th>busiest_period_of_day</th>\n",
       "      <th>max_order</th>\n",
       "      <th>loyalty_flag</th>\n",
       "      <th>average_price</th>\n",
       "      <th>spending_flag</th>\n",
       "      <th>prior_order_median</th>\n",
       "      <th>order_frequency_flag</th>\n",
       "    </tr>\n",
       "  </thead>\n",
       "  <tbody>\n",
       "    <tr>\n",
       "      <th>0</th>\n",
       "      <td>2539329</td>\n",
       "      <td>1</td>\n",
       "      <td>1</td>\n",
       "      <td>2</td>\n",
       "      <td>8</td>\n",
       "      <td>NaN</td>\n",
       "      <td>196</td>\n",
       "      <td>1</td>\n",
       "      <td>0</td>\n",
       "      <td>Soda</td>\n",
       "      <td>...</td>\n",
       "      <td>Mid-range product</td>\n",
       "      <td>Regularly Busy</td>\n",
       "      <td>Normal Days</td>\n",
       "      <td>Average Orders</td>\n",
       "      <td>10</td>\n",
       "      <td>New Customer</td>\n",
       "      <td>6.367797</td>\n",
       "      <td>Low Spender</td>\n",
       "      <td>20.5</td>\n",
       "      <td>Non-frequent customer.</td>\n",
       "    </tr>\n",
       "    <tr>\n",
       "      <th>1</th>\n",
       "      <td>2398795</td>\n",
       "      <td>1</td>\n",
       "      <td>2</td>\n",
       "      <td>3</td>\n",
       "      <td>7</td>\n",
       "      <td>15.0</td>\n",
       "      <td>196</td>\n",
       "      <td>1</td>\n",
       "      <td>1</td>\n",
       "      <td>Soda</td>\n",
       "      <td>...</td>\n",
       "      <td>Mid-range product</td>\n",
       "      <td>Regularly Busy</td>\n",
       "      <td>Slowest Days</td>\n",
       "      <td>Average Orders</td>\n",
       "      <td>10</td>\n",
       "      <td>New Customer</td>\n",
       "      <td>6.367797</td>\n",
       "      <td>Low Spender</td>\n",
       "      <td>20.5</td>\n",
       "      <td>Non-frequent customer.</td>\n",
       "    </tr>\n",
       "    <tr>\n",
       "      <th>2</th>\n",
       "      <td>473747</td>\n",
       "      <td>1</td>\n",
       "      <td>3</td>\n",
       "      <td>3</td>\n",
       "      <td>12</td>\n",
       "      <td>21.0</td>\n",
       "      <td>196</td>\n",
       "      <td>1</td>\n",
       "      <td>1</td>\n",
       "      <td>Soda</td>\n",
       "      <td>...</td>\n",
       "      <td>Mid-range product</td>\n",
       "      <td>Regularly Busy</td>\n",
       "      <td>Slowest Days</td>\n",
       "      <td>Most Orders</td>\n",
       "      <td>10</td>\n",
       "      <td>New Customer</td>\n",
       "      <td>6.367797</td>\n",
       "      <td>Low Spender</td>\n",
       "      <td>20.5</td>\n",
       "      <td>Non-frequent customer.</td>\n",
       "    </tr>\n",
       "    <tr>\n",
       "      <th>3</th>\n",
       "      <td>2254736</td>\n",
       "      <td>1</td>\n",
       "      <td>4</td>\n",
       "      <td>4</td>\n",
       "      <td>7</td>\n",
       "      <td>29.0</td>\n",
       "      <td>196</td>\n",
       "      <td>1</td>\n",
       "      <td>1</td>\n",
       "      <td>Soda</td>\n",
       "      <td>...</td>\n",
       "      <td>Mid-range product</td>\n",
       "      <td>Least Busy</td>\n",
       "      <td>Slowest Days</td>\n",
       "      <td>Average Orders</td>\n",
       "      <td>10</td>\n",
       "      <td>New Customer</td>\n",
       "      <td>6.367797</td>\n",
       "      <td>Low Spender</td>\n",
       "      <td>20.5</td>\n",
       "      <td>Non-frequent customer.</td>\n",
       "    </tr>\n",
       "    <tr>\n",
       "      <th>4</th>\n",
       "      <td>431534</td>\n",
       "      <td>1</td>\n",
       "      <td>5</td>\n",
       "      <td>4</td>\n",
       "      <td>15</td>\n",
       "      <td>28.0</td>\n",
       "      <td>196</td>\n",
       "      <td>1</td>\n",
       "      <td>1</td>\n",
       "      <td>Soda</td>\n",
       "      <td>...</td>\n",
       "      <td>Mid-range product</td>\n",
       "      <td>Least Busy</td>\n",
       "      <td>Slowest Days</td>\n",
       "      <td>Most Orders</td>\n",
       "      <td>10</td>\n",
       "      <td>New Customer</td>\n",
       "      <td>6.367797</td>\n",
       "      <td>Low Spender</td>\n",
       "      <td>20.5</td>\n",
       "      <td>Non-frequent customer.</td>\n",
       "    </tr>\n",
       "  </tbody>\n",
       "</table>\n",
       "<p>5 rows × 24 columns</p>\n",
       "</div>"
      ],
      "text/plain": [
       "   order_id  user_id  order_number  order_day_of_week  order_hour_of_day  \\\n",
       "0   2539329        1             1                  2                  8   \n",
       "1   2398795        1             2                  3                  7   \n",
       "2    473747        1             3                  3                 12   \n",
       "3   2254736        1             4                  4                  7   \n",
       "4    431534        1             5                  4                 15   \n",
       "\n",
       "   days_since_last_order  product_id  add_to_cart_order  reordered  \\\n",
       "0                    NaN         196                  1          0   \n",
       "1                   15.0         196                  1          1   \n",
       "2                   21.0         196                  1          1   \n",
       "3                   29.0         196                  1          1   \n",
       "4                   28.0         196                  1          1   \n",
       "\n",
       "  product_name  ...    price_range_loc     busiest_day  Busiest_days  \\\n",
       "0         Soda  ...  Mid-range product  Regularly Busy   Normal Days   \n",
       "1         Soda  ...  Mid-range product  Regularly Busy  Slowest Days   \n",
       "2         Soda  ...  Mid-range product  Regularly Busy  Slowest Days   \n",
       "3         Soda  ...  Mid-range product      Least Busy  Slowest Days   \n",
       "4         Soda  ...  Mid-range product      Least Busy  Slowest Days   \n",
       "\n",
       "  busiest_period_of_day max_order  loyalty_flag average_price spending_flag  \\\n",
       "0        Average Orders        10  New Customer      6.367797   Low Spender   \n",
       "1        Average Orders        10  New Customer      6.367797   Low Spender   \n",
       "2           Most Orders        10  New Customer      6.367797   Low Spender   \n",
       "3        Average Orders        10  New Customer      6.367797   Low Spender   \n",
       "4           Most Orders        10  New Customer      6.367797   Low Spender   \n",
       "\n",
       "   prior_order_median    order_frequency_flag  \n",
       "0                20.5  Non-frequent customer.  \n",
       "1                20.5  Non-frequent customer.  \n",
       "2                20.5  Non-frequent customer.  \n",
       "3                20.5  Non-frequent customer.  \n",
       "4                20.5  Non-frequent customer.  \n",
       "\n",
       "[5 rows x 24 columns]"
      ]
     },
     "execution_count": 5,
     "metadata": {},
     "output_type": "execute_result"
    }
   ],
   "source": [
    "ords_prods_merge.head()"
   ]
  },
  {
   "cell_type": "markdown",
   "id": "0f2fefa8",
   "metadata": {},
   "source": [
    "### Bar Charts"
   ]
  },
  {
   "cell_type": "code",
   "execution_count": 6,
   "id": "1532c251",
   "metadata": {},
   "outputs": [
    {
     "data": {
      "text/plain": [
       "<AxesSubplot: >"
      ]
     },
     "execution_count": 6,
     "metadata": {},
     "output_type": "execute_result"
    },
    {
     "data": {
      "image/png": "[encoded data removed]",
      "text/plain": [
       "<Figure size 640x480 with 1 Axes>"
      ]
     },
     "metadata": {},
     "output_type": "display_data"
    }
   ],
   "source": [
    "ords_prods_merge['order_day_of_week'].value_counts().plot.bar()"
   ]
  },
  {
   "cell_type": "code",
   "execution_count": 7,
   "id": "e58a5985",
   "metadata": {},
   "outputs": [
    {
     "data": {
      "text/plain": [
       "<AxesSubplot: >"
      ]
     },
     "execution_count": 7,
     "metadata": {},
     "output_type": "execute_result"
    },
    {
     "data": {
      "image/png": "[encoded data removed]",
      "text/plain": [
       "<Figure size 640x480 with 1 Axes>"
      ]
     },
     "metadata": {},
     "output_type": "display_data"
    }
   ],
   "source": [
    "ords_prods_merge['order_day_of_week'].value_counts().sort_index().plot.bar()"
   ]
  },
  {
   "cell_type": "code",
   "execution_count": 8,
   "id": "9900ed5c",
   "metadata": {},
   "outputs": [
    {
     "data": {
      "image/png": "[encoded data removed]",
      "text/plain": [
       "<Figure size 640x480 with 1 Axes>"
      ]
     },
     "metadata": {},
     "output_type": "display_data"
    }
   ],
   "source": [
    "bar = ords_prods_merge['order_day_of_week'].value_counts().plot.bar()\n",
    "plt.title('Orders per day of the Week')\n",
    "\n",
    "plt.xlabel('Day of the week')\n",
    "plt.ylabel('Orders')\n",
    "\n",
    "\n",
    "\n",
    "for container in bar.containers:\n",
    "    bar.bar_label(container,fmt = '%i',padding=2)\n"
   ]
  },
  {
   "cell_type": "code",
   "execution_count": 9,
   "id": "70724831",
   "metadata": {},
   "outputs": [
    {
     "data": {
      "text/plain": [
       "<AxesSubplot: title={'center': 'Orders per day of the Week'}, xlabel='Day of the week', ylabel='Orders'>"
      ]
     },
     "execution_count": 9,
     "metadata": {},
     "output_type": "execute_result"
    }
   ],
   "source": [
    "bar"
   ]
  },
  {
   "cell_type": "code",
   "execution_count": 10,
   "id": "191da166",
   "metadata": {},
   "outputs": [],
   "source": [
    "bar.figure.savefig(os.path.join(path,'Analysis','Visualizations','bar_order_dow.png'),bbox_inches='tight')"
   ]
  },
  {
   "cell_type": "markdown",
   "id": "f86f6a7d",
   "metadata": {},
   "source": [
    "### Histograms"
   ]
  },
  {
   "cell_type": "code",
   "execution_count": 11,
   "id": "b1b970c9",
   "metadata": {},
   "outputs": [
    {
     "data": {
      "text/plain": [
       "<AxesSubplot: ylabel='Frequency'>"
      ]
     },
     "execution_count": 11,
     "metadata": {},
     "output_type": "execute_result"
    },
    {
     "data": {
      "image/png": "[encoded data removed]",
      "text/plain": [
       "<Figure size 640x480 with 1 Axes>"
      ]
     },
     "metadata": {},
     "output_type": "display_data"
    }
   ],
   "source": [
    "ords_prods_merge['prices'].plot.hist(bins = 25)"
   ]
  },
  {
   "cell_type": "code",
   "execution_count": 12,
   "id": "891e1b1f",
   "metadata": {},
   "outputs": [
    {
     "data": {
      "image/png": "[encoded data removed]",
      "text/plain": [
       "<Figure size 640x480 with 1 Axes>"
      ]
     },
     "metadata": {},
     "output_type": "display_data"
    }
   ],
   "source": [
    "hist2 = ords_prods_merge['prices'].plot.hist(bins = 70)"
   ]
  },
  {
   "cell_type": "code",
   "execution_count": 13,
   "id": "cac31209",
   "metadata": {},
   "outputs": [],
   "source": [
    "hist2.figure.savefig(os.path.join(path,'Analysis','Visualizations','Histogram_prices.png'))"
   ]
  },
  {
   "cell_type": "code",
   "execution_count": null,
   "id": "7672cdd1",
   "metadata": {},
   "outputs": [],
   "source": []
  },
  {
   "cell_type": "code",
   "execution_count": 14,
   "id": "18b01534",
   "metadata": {},
   "outputs": [
    {
     "data": {
      "text/plain": [
       "count    3.240486e+07\n",
       "mean     7.791115e+00\n",
       "std      4.241491e+00\n",
       "min      1.000000e+00\n",
       "25%      4.200000e+00\n",
       "50%      7.400000e+00\n",
       "75%      1.130000e+01\n",
       "max      2.500000e+01\n",
       "Name: prices, dtype: float64"
      ]
     },
     "execution_count": 14,
     "metadata": {},
     "output_type": "execute_result"
    }
   ],
   "source": [
    "ords_prods_merge['prices'].describe()"
   ]
  },
  {
   "cell_type": "markdown",
   "id": "7c64fc38",
   "metadata": {},
   "source": [
    "### Scatterplots"
   ]
  },
  {
   "cell_type": "code",
   "execution_count": 15,
   "id": "644faa05",
   "metadata": {},
   "outputs": [],
   "source": [
    "#sns.scatterplot(x='prices', y = 'prices', data = ords_prods_merge)"
   ]
  },
  {
   "cell_type": "code",
   "execution_count": 16,
   "id": "44705d77",
   "metadata": {},
   "outputs": [
    {
     "data": {
      "text/html": [
       "<div>\n",
       "<style scoped>\n",
       "    .dataframe tbody tr th:only-of-type {\n",
       "        vertical-align: middle;\n",
       "    }\n",
       "\n",
       "    .dataframe tbody tr th {\n",
       "        vertical-align: top;\n",
       "    }\n",
       "\n",
       "    .dataframe thead th {\n",
       "        text-align: right;\n",
       "    }\n",
       "</style>\n",
       "<table border=\"1\" class=\"dataframe\">\n",
       "  <thead>\n",
       "    <tr style=\"text-align: right;\">\n",
       "      <th></th>\n",
       "      <th>order_id</th>\n",
       "      <th>user_id</th>\n",
       "      <th>order_number</th>\n",
       "      <th>order_day_of_week</th>\n",
       "      <th>order_hour_of_day</th>\n",
       "      <th>days_since_last_order</th>\n",
       "      <th>product_id</th>\n",
       "      <th>add_to_cart_order</th>\n",
       "      <th>reordered</th>\n",
       "      <th>product_name</th>\n",
       "      <th>...</th>\n",
       "      <th>price_range_loc</th>\n",
       "      <th>busiest_day</th>\n",
       "      <th>Busiest_days</th>\n",
       "      <th>busiest_period_of_day</th>\n",
       "      <th>max_order</th>\n",
       "      <th>loyalty_flag</th>\n",
       "      <th>average_price</th>\n",
       "      <th>spending_flag</th>\n",
       "      <th>prior_order_median</th>\n",
       "      <th>order_frequency_flag</th>\n",
       "    </tr>\n",
       "  </thead>\n",
       "  <tbody>\n",
       "  </tbody>\n",
       "</table>\n",
       "<p>0 rows × 24 columns</p>\n",
       "</div>"
      ],
      "text/plain": [
       "Empty DataFrame\n",
       "Columns: [order_id, user_id, order_number, order_day_of_week, order_hour_of_day, days_since_last_order, product_id, add_to_cart_order, reordered, product_name, aisle_id, department_id, prices, _merge, price_range_loc, busiest_day, Busiest_days, busiest_period_of_day, max_order, loyalty_flag, average_price, spending_flag, prior_order_median, order_frequency_flag]\n",
       "Index: []\n",
       "\n",
       "[0 rows x 24 columns]"
      ]
     },
     "execution_count": 16,
     "metadata": {},
     "output_type": "execute_result"
    }
   ],
   "source": [
    "#Checking the outliers in the dataset, i.e., price above 100\n",
    "ords_prods_merge[ords_prods_merge['prices'] > 100]"
   ]
  },
  {
   "cell_type": "code",
   "execution_count": 17,
   "id": "3bcab5d4",
   "metadata": {},
   "outputs": [
    {
     "data": {
      "text/plain": [
       "25.0"
      ]
     },
     "execution_count": 17,
     "metadata": {},
     "output_type": "execute_result"
    }
   ],
   "source": [
    "ords_prods_merge['prices'].max()"
   ]
  },
  {
   "cell_type": "markdown",
   "id": "9587e0ac",
   "metadata": {},
   "source": [
    "## Sampling"
   ]
  },
  {
   "cell_type": "code",
   "execution_count": 18,
   "id": "9299c01b",
   "metadata": {},
   "outputs": [],
   "source": [
    "np.random.seed(4)"
   ]
  },
  {
   "cell_type": "code",
   "execution_count": 19,
   "id": "63a6ba17",
   "metadata": {},
   "outputs": [],
   "source": [
    "#Create a list holding True and False values to the test np.random.rand() <= 0.7\n",
    "dev = np.random.rand(len(ords_prods_merge)) <= 0.7"
   ]
  },
  {
   "cell_type": "code",
   "execution_count": 20,
   "id": "a89dc881",
   "metadata": {},
   "outputs": [
    {
     "data": {
      "text/plain": [
       "array([False,  True, False, ...,  True,  True,  True])"
      ]
     },
     "execution_count": 20,
     "metadata": {},
     "output_type": "execute_result"
    }
   ],
   "source": [
    "dev"
   ]
  },
  {
   "cell_type": "code",
   "execution_count": 21,
   "id": "b5ef9760",
   "metadata": {},
   "outputs": [],
   "source": [
    "#Store 70% of the population in the big variable\n",
    "big = ords_prods_merge[dev]"
   ]
  },
  {
   "cell_type": "code",
   "execution_count": 22,
   "id": "050e2bb9",
   "metadata": {},
   "outputs": [],
   "source": [
    "#Store 30% of the population in the small variable\n",
    "small = ords_prods_merge[~dev]"
   ]
  },
  {
   "cell_type": "code",
   "execution_count": 23,
   "id": "7236312a",
   "metadata": {},
   "outputs": [
    {
     "data": {
      "text/plain": [
       "32404859"
      ]
     },
     "execution_count": 23,
     "metadata": {},
     "output_type": "execute_result"
    }
   ],
   "source": [
    "len(ords_prods_merge)"
   ]
  },
  {
   "cell_type": "code",
   "execution_count": 24,
   "id": "a7397cfa",
   "metadata": {},
   "outputs": [
    {
     "data": {
      "text/plain": [
       "32404859"
      ]
     },
     "execution_count": 24,
     "metadata": {},
     "output_type": "execute_result"
    }
   ],
   "source": [
    "len(big) + len(small)"
   ]
  },
  {
   "cell_type": "code",
   "execution_count": 25,
   "id": "bb6f101f",
   "metadata": {},
   "outputs": [],
   "source": [
    "#Creating a dataframe of only order dow and prices from small\n",
    "df_2 = small[['order_day_of_week','prices']]"
   ]
  },
  {
   "cell_type": "code",
   "execution_count": 26,
   "id": "d41586d3",
   "metadata": {},
   "outputs": [],
   "source": [
    "#ax = plt.axes()\n",
    "#line = sns.lineplot(data = df_2,x='order_day_of_week',y='prices', ax= ax)\n",
    "#ax.set_title('Prices of Products per day of the week')\n"
   ]
  },
  {
   "cell_type": "code",
   "execution_count": 27,
   "id": "6fa886df",
   "metadata": {},
   "outputs": [],
   "source": [
    "#line.figure.savefig(os.path.join(path,'Analysis','Visualizations','Prices of Orders per day of the week.png'),bbox_inches='tight')"
   ]
  },
  {
   "cell_type": "markdown",
   "id": "c8e9dd1c",
   "metadata": {},
   "source": [
    "## Step 2"
   ]
  },
  {
   "cell_type": "code",
   "execution_count": 28,
   "id": "9ae7a912",
   "metadata": {},
   "outputs": [],
   "source": [
    "#Importing the new dataset which has merged customer data\n",
    "instacart_with_customers = pd.read_pickle(os.path.join(path,'Data','Prepared Data','instacart_with_customers.pkl'))"
   ]
  },
  {
   "cell_type": "code",
   "execution_count": 29,
   "id": "52dc998e",
   "metadata": {},
   "outputs": [
    {
     "data": {
      "text/html": [
       "<div>\n",
       "<style scoped>\n",
       "    .dataframe tbody tr th:only-of-type {\n",
       "        vertical-align: middle;\n",
       "    }\n",
       "\n",
       "    .dataframe tbody tr th {\n",
       "        vertical-align: top;\n",
       "    }\n",
       "\n",
       "    .dataframe thead th {\n",
       "        text-align: right;\n",
       "    }\n",
       "</style>\n",
       "<table border=\"1\" class=\"dataframe\">\n",
       "  <thead>\n",
       "    <tr style=\"text-align: right;\">\n",
       "      <th></th>\n",
       "      <th>order_id</th>\n",
       "      <th>user_id</th>\n",
       "      <th>order_number</th>\n",
       "      <th>order_day_of_week</th>\n",
       "      <th>order_hour_of_day</th>\n",
       "      <th>days_since_last_order</th>\n",
       "      <th>product_id</th>\n",
       "      <th>add_to_cart_order</th>\n",
       "      <th>reordered</th>\n",
       "      <th>product_name</th>\n",
       "      <th>...</th>\n",
       "      <th>order_frequency_flag</th>\n",
       "      <th>first_name</th>\n",
       "      <th>last_name</th>\n",
       "      <th>gender</th>\n",
       "      <th>state</th>\n",
       "      <th>age</th>\n",
       "      <th>date_joined</th>\n",
       "      <th>number_dependents</th>\n",
       "      <th>marital_status</th>\n",
       "      <th>income</th>\n",
       "    </tr>\n",
       "  </thead>\n",
       "  <tbody>\n",
       "    <tr>\n",
       "      <th>0</th>\n",
       "      <td>2539329</td>\n",
       "      <td>1</td>\n",
       "      <td>1</td>\n",
       "      <td>2</td>\n",
       "      <td>8</td>\n",
       "      <td>NaN</td>\n",
       "      <td>196</td>\n",
       "      <td>1</td>\n",
       "      <td>0</td>\n",
       "      <td>Soda</td>\n",
       "      <td>...</td>\n",
       "      <td>Non-frequent customer.</td>\n",
       "      <td>Linda</td>\n",
       "      <td>Nguyen</td>\n",
       "      <td>Female</td>\n",
       "      <td>Alabama</td>\n",
       "      <td>31</td>\n",
       "      <td>2/17/2019</td>\n",
       "      <td>3</td>\n",
       "      <td>married</td>\n",
       "      <td>40423</td>\n",
       "    </tr>\n",
       "    <tr>\n",
       "      <th>1</th>\n",
       "      <td>2398795</td>\n",
       "      <td>1</td>\n",
       "      <td>2</td>\n",
       "      <td>3</td>\n",
       "      <td>7</td>\n",
       "      <td>15.0</td>\n",
       "      <td>196</td>\n",
       "      <td>1</td>\n",
       "      <td>1</td>\n",
       "      <td>Soda</td>\n",
       "      <td>...</td>\n",
       "      <td>Non-frequent customer.</td>\n",
       "      <td>Linda</td>\n",
       "      <td>Nguyen</td>\n",
       "      <td>Female</td>\n",
       "      <td>Alabama</td>\n",
       "      <td>31</td>\n",
       "      <td>2/17/2019</td>\n",
       "      <td>3</td>\n",
       "      <td>married</td>\n",
       "      <td>40423</td>\n",
       "    </tr>\n",
       "    <tr>\n",
       "      <th>2</th>\n",
       "      <td>473747</td>\n",
       "      <td>1</td>\n",
       "      <td>3</td>\n",
       "      <td>3</td>\n",
       "      <td>12</td>\n",
       "      <td>21.0</td>\n",
       "      <td>196</td>\n",
       "      <td>1</td>\n",
       "      <td>1</td>\n",
       "      <td>Soda</td>\n",
       "      <td>...</td>\n",
       "      <td>Non-frequent customer.</td>\n",
       "      <td>Linda</td>\n",
       "      <td>Nguyen</td>\n",
       "      <td>Female</td>\n",
       "      <td>Alabama</td>\n",
       "      <td>31</td>\n",
       "      <td>2/17/2019</td>\n",
       "      <td>3</td>\n",
       "      <td>married</td>\n",
       "      <td>40423</td>\n",
       "    </tr>\n",
       "    <tr>\n",
       "      <th>3</th>\n",
       "      <td>2254736</td>\n",
       "      <td>1</td>\n",
       "      <td>4</td>\n",
       "      <td>4</td>\n",
       "      <td>7</td>\n",
       "      <td>29.0</td>\n",
       "      <td>196</td>\n",
       "      <td>1</td>\n",
       "      <td>1</td>\n",
       "      <td>Soda</td>\n",
       "      <td>...</td>\n",
       "      <td>Non-frequent customer.</td>\n",
       "      <td>Linda</td>\n",
       "      <td>Nguyen</td>\n",
       "      <td>Female</td>\n",
       "      <td>Alabama</td>\n",
       "      <td>31</td>\n",
       "      <td>2/17/2019</td>\n",
       "      <td>3</td>\n",
       "      <td>married</td>\n",
       "      <td>40423</td>\n",
       "    </tr>\n",
       "    <tr>\n",
       "      <th>4</th>\n",
       "      <td>431534</td>\n",
       "      <td>1</td>\n",
       "      <td>5</td>\n",
       "      <td>4</td>\n",
       "      <td>15</td>\n",
       "      <td>28.0</td>\n",
       "      <td>196</td>\n",
       "      <td>1</td>\n",
       "      <td>1</td>\n",
       "      <td>Soda</td>\n",
       "      <td>...</td>\n",
       "      <td>Non-frequent customer.</td>\n",
       "      <td>Linda</td>\n",
       "      <td>Nguyen</td>\n",
       "      <td>Female</td>\n",
       "      <td>Alabama</td>\n",
       "      <td>31</td>\n",
       "      <td>2/17/2019</td>\n",
       "      <td>3</td>\n",
       "      <td>married</td>\n",
       "      <td>40423</td>\n",
       "    </tr>\n",
       "  </tbody>\n",
       "</table>\n",
       "<p>5 rows × 33 columns</p>\n",
       "</div>"
      ],
      "text/plain": [
       "   order_id user_id  order_number  order_day_of_week  order_hour_of_day  \\\n",
       "0   2539329       1             1                  2                  8   \n",
       "1   2398795       1             2                  3                  7   \n",
       "2    473747       1             3                  3                 12   \n",
       "3   2254736       1             4                  4                  7   \n",
       "4    431534       1             5                  4                 15   \n",
       "\n",
       "   days_since_last_order  product_id  add_to_cart_order  reordered  \\\n",
       "0                    NaN         196                  1          0   \n",
       "1                   15.0         196                  1          1   \n",
       "2                   21.0         196                  1          1   \n",
       "3                   29.0         196                  1          1   \n",
       "4                   28.0         196                  1          1   \n",
       "\n",
       "  product_name  ...    order_frequency_flag  first_name  last_name  gender  \\\n",
       "0         Soda  ...  Non-frequent customer.       Linda     Nguyen  Female   \n",
       "1         Soda  ...  Non-frequent customer.       Linda     Nguyen  Female   \n",
       "2         Soda  ...  Non-frequent customer.       Linda     Nguyen  Female   \n",
       "3         Soda  ...  Non-frequent customer.       Linda     Nguyen  Female   \n",
       "4         Soda  ...  Non-frequent customer.       Linda     Nguyen  Female   \n",
       "\n",
       "     state age date_joined number_dependents  marital_status income  \n",
       "0  Alabama  31   2/17/2019                 3         married  40423  \n",
       "1  Alabama  31   2/17/2019                 3         married  40423  \n",
       "2  Alabama  31   2/17/2019                 3         married  40423  \n",
       "3  Alabama  31   2/17/2019                 3         married  40423  \n",
       "4  Alabama  31   2/17/2019                 3         married  40423  \n",
       "\n",
       "[5 rows x 33 columns]"
      ]
     },
     "execution_count": 29,
     "metadata": {},
     "output_type": "execute_result"
    }
   ],
   "source": [
    "#Validating the import\n",
    "instacart_with_customers.head()"
   ]
  },
  {
   "cell_type": "markdown",
   "id": "158e922a",
   "metadata": {},
   "source": [
    "## Question 3 - Descriptive Findings about Sales"
   ]
  },
  {
   "cell_type": "code",
   "execution_count": 30,
   "id": "d6eb3861",
   "metadata": {},
   "outputs": [
    {
     "data": {
      "text/plain": [
       "Text(0, 0.5, 'Number of Orders')"
      ]
     },
     "execution_count": 30,
     "metadata": {},
     "output_type": "execute_result"
    },
    {
     "data": {
      "image/png": "[encoded data removed]",
      "text/plain": [
       "<Figure size 640x480 with 1 Axes>"
      ]
     },
     "metadata": {},
     "output_type": "display_data"
    }
   ],
   "source": [
    "#Histogram of the hour of the day for orders\n",
    "\n",
    "df_hist_hour = instacart_with_customers['order_hour_of_day'].plot(kind = 'hist',bins = 24, xlabel = 'Hour of the Day')\n",
    "plt.title('Sales for the Whole Day')\n",
    "\n",
    "plt.xlabel('Hours of the Day(1-24)')\n",
    "plt.ylabel('Number of Orders')\n"
   ]
  },
  {
   "cell_type": "markdown",
   "id": "ae80877a",
   "metadata": {},
   "source": [
    "In the Above Histogram, I have used the number of bins to be 24, marking the number of hours in the whole Day. Based on teh above Histogram, we can see that the orders are more from hours 10-17 i.e,- 10AM - 5PM which seems to be the actual shopping time for majority of people in general. "
   ]
  },
  {
   "cell_type": "code",
   "execution_count": 31,
   "id": "8ecce293",
   "metadata": {},
   "outputs": [],
   "source": [
    "#Exporting the above histogram\n",
    "df_hist_hour.figure.savefig(os.path.join(path,'Analysis','Visualizations','Orders_hour_of_day.png'))"
   ]
  },
  {
   "cell_type": "markdown",
   "id": "7dc5fe06",
   "metadata": {},
   "source": [
    "### Question 4 - Bar chart of Distribution of Orders based on Customer Loyalty"
   ]
  },
  {
   "cell_type": "code",
   "execution_count": 32,
   "id": "b5fced39",
   "metadata": {},
   "outputs": [
    {
     "data": {
      "image/png": "[encoded data removed]",
      "text/plain": [
       "<Figure size 640x480 with 1 Axes>"
      ]
     },
     "metadata": {},
     "output_type": "display_data"
    }
   ],
   "source": [
    "# Bar Chart of distribution of Orders\n",
    "bar_loyalty = instacart_with_customers['loyalty_flag'].value_counts().plot.bar()\n",
    "plt.title('Orders based on Customer Loyalty')\n",
    "\n",
    "plt.xlabel('Customer Loyalty')\n",
    "plt.ylabel('Number of Orders')\n",
    "\n",
    "\n",
    "\n",
    "for container in bar.containers:\n",
    "    bar_loyalty.bar_label(container,fmt = '%i',padding=2)\n"
   ]
  },
  {
   "cell_type": "code",
   "execution_count": 33,
   "id": "150c7812",
   "metadata": {},
   "outputs": [],
   "source": [
    "#Exporting the bar chart to the Visualization folder\n",
    "bar_loyalty.figure.savefig(os.path.join(path,'Analysis','Visualizations','bar_loyalty.png'), bbox_inches='tight')"
   ]
  },
  {
   "cell_type": "markdown",
   "id": "6756901d",
   "metadata": {},
   "source": [
    "## Question 5"
   ]
  },
  {
   "cell_type": "code",
   "execution_count": 34,
   "id": "6e0efce2",
   "metadata": {},
   "outputs": [
    {
     "data": {
      "text/plain": [
       "(9721098, 24)"
      ]
     },
     "execution_count": 34,
     "metadata": {},
     "output_type": "execute_result"
    }
   ],
   "source": [
    "#Line Chart sampling\n",
    "small.shape"
   ]
  },
  {
   "cell_type": "markdown",
   "id": "a64de50c",
   "metadata": {},
   "source": [
    "Here, the code sampling used is the small dataset to determine the difference in Expenditure based on the hour of the day."
   ]
  },
  {
   "cell_type": "code",
   "execution_count": 35,
   "id": "fb97a494",
   "metadata": {},
   "outputs": [],
   "source": [
    "df_line = small[['prices','order_hour_of_day']]"
   ]
  },
  {
   "cell_type": "code",
   "execution_count": 36,
   "id": "0269d33e",
   "metadata": {},
   "outputs": [
    {
     "data": {
      "text/plain": [
       "(9721098, 2)"
      ]
     },
     "execution_count": 36,
     "metadata": {},
     "output_type": "execute_result"
    }
   ],
   "source": [
    "#Validating the above subset of the dataset\n",
    "df_line.shape"
   ]
  },
  {
   "cell_type": "code",
   "execution_count": 37,
   "id": "f29fb5dc",
   "metadata": {},
   "outputs": [
    {
     "data": {
      "text/html": [
       "<div>\n",
       "<style scoped>\n",
       "    .dataframe tbody tr th:only-of-type {\n",
       "        vertical-align: middle;\n",
       "    }\n",
       "\n",
       "    .dataframe tbody tr th {\n",
       "        vertical-align: top;\n",
       "    }\n",
       "\n",
       "    .dataframe thead th {\n",
       "        text-align: right;\n",
       "    }\n",
       "</style>\n",
       "<table border=\"1\" class=\"dataframe\">\n",
       "  <thead>\n",
       "    <tr style=\"text-align: right;\">\n",
       "      <th></th>\n",
       "      <th>prices</th>\n",
       "      <th>order_hour_of_day</th>\n",
       "    </tr>\n",
       "  </thead>\n",
       "  <tbody>\n",
       "    <tr>\n",
       "      <th>0</th>\n",
       "      <td>9.0</td>\n",
       "      <td>8</td>\n",
       "    </tr>\n",
       "    <tr>\n",
       "      <th>2</th>\n",
       "      <td>9.0</td>\n",
       "      <td>12</td>\n",
       "    </tr>\n",
       "    <tr>\n",
       "      <th>3</th>\n",
       "      <td>9.0</td>\n",
       "      <td>7</td>\n",
       "    </tr>\n",
       "    <tr>\n",
       "      <th>6</th>\n",
       "      <td>9.0</td>\n",
       "      <td>9</td>\n",
       "    </tr>\n",
       "    <tr>\n",
       "      <th>10</th>\n",
       "      <td>9.0</td>\n",
       "      <td>9</td>\n",
       "    </tr>\n",
       "  </tbody>\n",
       "</table>\n",
       "</div>"
      ],
      "text/plain": [
       "    prices  order_hour_of_day\n",
       "0      9.0                  8\n",
       "2      9.0                 12\n",
       "3      9.0                  7\n",
       "6      9.0                  9\n",
       "10     9.0                  9"
      ]
     },
     "execution_count": 37,
     "metadata": {},
     "output_type": "execute_result"
    }
   ],
   "source": [
    "df_line.head()"
   ]
  },
  {
   "cell_type": "code",
   "execution_count": null,
   "id": "43e3841d",
   "metadata": {},
   "outputs": [],
   "source": []
  },
  {
   "cell_type": "code",
   "execution_count": null,
   "id": "b621ca22",
   "metadata": {},
   "outputs": [],
   "source": []
  },
  {
   "cell_type": "code",
   "execution_count": null,
   "id": "7d6f7335",
   "metadata": {},
   "outputs": [],
   "source": []
  },
  {
   "cell_type": "code",
   "execution_count": 38,
   "id": "0e5e3eb6",
   "metadata": {},
   "outputs": [],
   "source": [
    "#Charting the line chart\n",
    "#ax = plt.axes()\n",
    "#new_line = sns.lineplot(data = df_line, x = 'order_hour_of_day', y = 'prices', ax = ax)\n",
    "#ax.set_title('Prices and Orders_Hour_of_Day')"
   ]
  },
  {
   "cell_type": "code",
   "execution_count": 39,
   "id": "e316d51f",
   "metadata": {},
   "outputs": [],
   "source": [
    "#Exporting the line chart\n",
    "#new_line.figure.savefig(os.path.join(path,'Analysis','Visualizations','line_hour_of_day.png'))"
   ]
  },
  {
   "cell_type": "code",
   "execution_count": 40,
   "id": "fd620da2",
   "metadata": {},
   "outputs": [],
   "source": [
    "#df_line = small[['prices','order_day_']]"
   ]
  },
  {
   "cell_type": "code",
   "execution_count": null,
   "id": "07c49df6",
   "metadata": {},
   "outputs": [],
   "source": []
  },
  {
   "cell_type": "code",
   "execution_count": null,
   "id": "9311b8a0",
   "metadata": {},
   "outputs": [],
   "source": []
  },
  {
   "cell_type": "code",
   "execution_count": null,
   "id": "2392cf9f",
   "metadata": {},
   "outputs": [],
   "source": []
  },
  {
   "cell_type": "markdown",
   "id": "7b53b543",
   "metadata": {},
   "source": [
    "## Question 6 - Exploratory analysis of customer demographics"
   ]
  },
  {
   "cell_type": "code",
   "execution_count": 41,
   "id": "b4cd4faa",
   "metadata": {},
   "outputs": [],
   "source": [
    "#Connection between age and family connection using line chart"
   ]
  },
  {
   "cell_type": "markdown",
   "id": "ee5f6ba8",
   "metadata": {},
   "source": [
    "As before, for performing the line chart we will sample the dataset. "
   ]
  },
  {
   "cell_type": "code",
   "execution_count": null,
   "id": "985f68d0",
   "metadata": {},
   "outputs": [],
   "source": []
  },
  {
   "cell_type": "code",
   "execution_count": 42,
   "id": "074dc081",
   "metadata": {},
   "outputs": [],
   "source": [
    "#Removing certain columns to not get the Memory Error once running the Line chart Error\n",
    "#instacart_with_customers.drop(['_merge','Busiest_days','prior_order_median','order_frequency_flag'], axis = 1)"
   ]
  },
  {
   "cell_type": "code",
   "execution_count": 43,
   "id": "a3526d5b",
   "metadata": {},
   "outputs": [],
   "source": [
    "# This will result in an Index error because we did not sample the whole merged dataset while using new_small. We will perform those\n",
    "#steps in the following cells"
   ]
  },
  {
   "cell_type": "code",
   "execution_count": 44,
   "id": "e92d297c",
   "metadata": {},
   "outputs": [],
   "source": [
    "np.random.seed(4)"
   ]
  },
  {
   "cell_type": "code",
   "execution_count": 45,
   "id": "66e704c7",
   "metadata": {},
   "outputs": [],
   "source": [
    "#new_dev = np.random.rand(len(instacart_with_customers)) <= 0.7"
   ]
  },
  {
   "cell_type": "code",
   "execution_count": 46,
   "id": "cd976708",
   "metadata": {},
   "outputs": [],
   "source": [
    "#30% of the dataset will be transferred to small dataset\n",
    "#new_small = instacart_with_customers[~new_dev]"
   ]
  },
  {
   "cell_type": "code",
   "execution_count": 47,
   "id": "461f116c",
   "metadata": {},
   "outputs": [
    {
     "ename": "NameError",
     "evalue": "name 'new_small' is not defined",
     "output_type": "error",
     "traceback": [
      "\u001b[1;31m---------------------------------------------------------------------------\u001b[0m",
      "\u001b[1;31mNameError\u001b[0m                                 Traceback (most recent call last)",
      "\u001b[1;32m~\\AppData\\Local\\Temp\\ipykernel_17712\\2716898337.py\u001b[0m in \u001b[0;36m<module>\u001b[1;34m\u001b[0m\n\u001b[0;32m      1\u001b[0m \u001b[1;31m#Sampling the dataset\u001b[0m\u001b[1;33m\u001b[0m\u001b[1;33m\u001b[0m\u001b[0m\n\u001b[0;32m      2\u001b[0m \u001b[1;33m\u001b[0m\u001b[0m\n\u001b[1;32m----> 3\u001b[1;33m \u001b[0mline_customer\u001b[0m \u001b[1;33m=\u001b[0m \u001b[0mnew_small\u001b[0m\u001b[1;33m[\u001b[0m\u001b[1;33m[\u001b[0m\u001b[1;34m'age'\u001b[0m\u001b[1;33m,\u001b[0m\u001b[1;34m'number_dependents'\u001b[0m\u001b[1;33m]\u001b[0m\u001b[1;33m]\u001b[0m\u001b[1;33m\u001b[0m\u001b[1;33m\u001b[0m\u001b[0m\n\u001b[0m",
      "\u001b[1;31mNameError\u001b[0m: name 'new_small' is not defined"
     ]
    }
   ],
   "source": [
    "#Sampling the dataset\n",
    "\n",
    "#line_customer = new_small[['age','number_dependents']]"
   ]
  },
  {
   "cell_type": "code",
   "execution_count": null,
   "id": "e9929dda",
   "metadata": {},
   "outputs": [],
   "source": [
    "#ax = plt.axes()\n",
    "#line_demographics = sns.lineplot(data = line_customer,x='age',y='number_dependents', ax = ax)\n",
    "#ax.set_title('Age and Number of dependents')"
   ]
  },
  {
   "cell_type": "markdown",
   "id": "6eb59c62",
   "metadata": {},
   "source": [
    " As we can see from the above line chart, there is no clear pattern in age and number of dependents. It is not possible to form a\n",
    " marketing campaign on the customer demographics. Foe example, there is a dip in the number of dependents around age 20-25 during which\n",
    " the children might move out of the house for their undergraduates/college education. However, there is an increase in dependents\n",
    "for age 24 which is not possible to explain through Line chart. Hence, we need to do further analysis before conclusion and recommending\n",
    " any targeted marketing campaigns."
   ]
  },
  {
   "cell_type": "code",
   "execution_count": null,
   "id": "c98e9a68",
   "metadata": {},
   "outputs": [],
   "source": [
    "# Exporting the line chart \n",
    "line_demographics.figure.savefig(os.path.join(path,'Analysis','Visualizations','customer_demographics.png'))"
   ]
  },
  {
   "cell_type": "markdown",
   "id": "e033206b",
   "metadata": {},
   "source": [
    "### Question 7 - Connection between Age and Spending power"
   ]
  },
  {
   "cell_type": "code",
   "execution_count": 48,
   "id": "52d1ef83",
   "metadata": {},
   "outputs": [
    {
     "data": {
      "text/plain": [
       "Text(0.5, 1.0, 'Age and Income')"
      ]
     },
     "execution_count": 48,
     "metadata": {},
     "output_type": "execute_result"
    },
    {
     "data": {
      "image/png": "[encoded data removed]",
      "text/plain": [
       "<Figure size 640x480 with 1 Axes>"
      ]
     },
     "metadata": {},
     "output_type": "display_data"
    }
   ],
   "source": [
    "#Creating a scatterplot of age and income\n",
    "ax = plt.axes()\n",
    "income_scatter = sns.scatterplot(x = 'age',y='income',data = instacart_with_customers, ax = ax)\n",
    "ax.set_title('Age and Income')"
   ]
  },
  {
   "cell_type": "markdown",
   "id": "a9d17b00",
   "metadata": {},
   "source": [
    "From the above scatterplot, we can analyze that majority of the points are located below 200K. As for the pattern between age and spending power, it seems that after age 40 people tend to have a higher spending power. This might be due to many reasons like higher salaries of C-level positions within the company, financial assets growing and saving/retirement income."
   ]
  },
  {
   "cell_type": "code",
   "execution_count": 49,
   "id": "03338f37",
   "metadata": {},
   "outputs": [],
   "source": [
    "# Exporting the scatterplot to the Visualizations folder\n",
    "income_scatter.figure.savefig(os.path.join(path,'Analysis','Visualizations','income_and_age_scatter.png'))"
   ]
  },
  {
   "cell_type": "code",
   "execution_count": null,
   "id": "ffc4ee7d",
   "metadata": {},
   "outputs": [],
   "source": []
  },
  {
   "cell_type": "markdown",
   "id": "318635f7",
   "metadata": {},
   "source": [
    "### Question 8"
   ]
  },
  {
   "cell_type": "code",
   "execution_count": null,
   "id": "d03f80f1",
   "metadata": {},
   "outputs": [],
   "source": [
    "# All the Visualizations have been exported to the Visualizations folder during their individual questions."
   ]
  },
  {
   "cell_type": "code",
   "execution_count": null,
   "id": "6104de27",
   "metadata": {},
   "outputs": [],
   "source": []
  },
  {
   "cell_type": "code",
   "execution_count": null,
   "id": "3e1d2881",
   "metadata": {},
   "outputs": [],
   "source": []
  }
 ],
 "metadata": {
  "kernelspec": {
   "display_name": "Python 3 (ipykernel)",
   "language": "python",
   "name": "python3"
  },
  "language_info": {
   "codemirror_mode": {
    "name": "ipython",
    "version": 3
   },
   "file_extension": ".py",
   "mimetype": "text/x-python",
   "name": "python",
   "nbconvert_exporter": "python",
   "pygments_lexer": "ipython3",
   "version": "3.9.13"
  }
 },
 "nbformat": 4,
 "nbformat_minor": 5
}
