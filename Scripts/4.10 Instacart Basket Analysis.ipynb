{
 "cells": [
  {
   "cell_type": "markdown",
   "id": "d9124408",
   "metadata": {},
   "source": [
    "### Table of contents\n",
    "\n",
    "1) Importing the Data set.<br>\n",
    "2) Security Implications.<br>\n",
    "3) Regional Segmentation of Data.<br>\n",
    "4) Exclusion Flag. <br>\n",
    "5) Customer Profiling. <br>\n",
    "6) Visualization showing distribution of profiles. <br>\n",
    "7) Descriptive statistics of customer profile. <br>\n",
    "8) Comparing Customer profiles with Regions and Departments. <br>\n"
   ]
  },
  {
   "cell_type": "code",
   "execution_count": 1,
   "id": "f75e4491",
   "metadata": {},
   "outputs": [],
   "source": [
    "# Importing the required libraries\n",
    "import pandas as pd\n",
    "import numpy as np\n",
    "import os\n",
    "import seaborn as sns\n",
    "import matplotlib.pyplot as plt"
   ]
  },
  {
   "cell_type": "code",
   "execution_count": 2,
   "id": "addcd9c1",
   "metadata": {},
   "outputs": [],
   "source": [
    "# Creating the path variable\n",
    "path = r'C:\\Users\\Arjun\\Documents\\Instacart Basket Analysis'"
   ]
  },
  {
   "cell_type": "code",
   "execution_count": 3,
   "id": "2f4e7106",
   "metadata": {},
   "outputs": [
    {
     "data": {
      "text/plain": [
       "'C:\\\\Users\\\\Arjun\\\\Documents\\\\Instacart Basket Analysis'"
      ]
     },
     "execution_count": 3,
     "metadata": {},
     "output_type": "execute_result"
    }
   ],
   "source": [
    "path"
   ]
  },
  {
   "cell_type": "code",
   "execution_count": 4,
   "id": "ebffa9c3",
   "metadata": {},
   "outputs": [],
   "source": [
    "# Importing the merged data set\n",
    "instacart_with_customers = pd.read_pickle(os.path.join(path,'Data','Prepared Data','instacart_with_customers.pkl'))"
   ]
  },
  {
   "cell_type": "code",
   "execution_count": 5,
   "id": "ffffa072",
   "metadata": {},
   "outputs": [
    {
     "data": {
      "text/html": [
       "<div>\n",
       "<style scoped>\n",
       "    .dataframe tbody tr th:only-of-type {\n",
       "        vertical-align: middle;\n",
       "    }\n",
       "\n",
       "    .dataframe tbody tr th {\n",
       "        vertical-align: top;\n",
       "    }\n",
       "\n",
       "    .dataframe thead th {\n",
       "        text-align: right;\n",
       "    }\n",
       "</style>\n",
       "<table border=\"1\" class=\"dataframe\">\n",
       "  <thead>\n",
       "    <tr style=\"text-align: right;\">\n",
       "      <th></th>\n",
       "      <th>order_id</th>\n",
       "      <th>user_id</th>\n",
       "      <th>order_number</th>\n",
       "      <th>order_day_of_week</th>\n",
       "      <th>order_hour_of_day</th>\n",
       "      <th>days_since_last_order</th>\n",
       "      <th>product_id</th>\n",
       "      <th>add_to_cart_order</th>\n",
       "      <th>reordered</th>\n",
       "      <th>product_name</th>\n",
       "      <th>...</th>\n",
       "      <th>order_frequency_flag</th>\n",
       "      <th>first_name</th>\n",
       "      <th>last_name</th>\n",
       "      <th>gender</th>\n",
       "      <th>state</th>\n",
       "      <th>age</th>\n",
       "      <th>date_joined</th>\n",
       "      <th>number_dependents</th>\n",
       "      <th>marital_status</th>\n",
       "      <th>income</th>\n",
       "    </tr>\n",
       "  </thead>\n",
       "  <tbody>\n",
       "    <tr>\n",
       "      <th>0</th>\n",
       "      <td>2539329</td>\n",
       "      <td>1</td>\n",
       "      <td>1</td>\n",
       "      <td>2</td>\n",
       "      <td>8</td>\n",
       "      <td>NaN</td>\n",
       "      <td>196</td>\n",
       "      <td>1</td>\n",
       "      <td>0</td>\n",
       "      <td>Soda</td>\n",
       "      <td>...</td>\n",
       "      <td>Non-frequent customer.</td>\n",
       "      <td>Linda</td>\n",
       "      <td>Nguyen</td>\n",
       "      <td>Female</td>\n",
       "      <td>Alabama</td>\n",
       "      <td>31</td>\n",
       "      <td>2/17/2019</td>\n",
       "      <td>3</td>\n",
       "      <td>married</td>\n",
       "      <td>40423</td>\n",
       "    </tr>\n",
       "    <tr>\n",
       "      <th>1</th>\n",
       "      <td>2398795</td>\n",
       "      <td>1</td>\n",
       "      <td>2</td>\n",
       "      <td>3</td>\n",
       "      <td>7</td>\n",
       "      <td>15.0</td>\n",
       "      <td>196</td>\n",
       "      <td>1</td>\n",
       "      <td>1</td>\n",
       "      <td>Soda</td>\n",
       "      <td>...</td>\n",
       "      <td>Non-frequent customer.</td>\n",
       "      <td>Linda</td>\n",
       "      <td>Nguyen</td>\n",
       "      <td>Female</td>\n",
       "      <td>Alabama</td>\n",
       "      <td>31</td>\n",
       "      <td>2/17/2019</td>\n",
       "      <td>3</td>\n",
       "      <td>married</td>\n",
       "      <td>40423</td>\n",
       "    </tr>\n",
       "    <tr>\n",
       "      <th>2</th>\n",
       "      <td>473747</td>\n",
       "      <td>1</td>\n",
       "      <td>3</td>\n",
       "      <td>3</td>\n",
       "      <td>12</td>\n",
       "      <td>21.0</td>\n",
       "      <td>196</td>\n",
       "      <td>1</td>\n",
       "      <td>1</td>\n",
       "      <td>Soda</td>\n",
       "      <td>...</td>\n",
       "      <td>Non-frequent customer.</td>\n",
       "      <td>Linda</td>\n",
       "      <td>Nguyen</td>\n",
       "      <td>Female</td>\n",
       "      <td>Alabama</td>\n",
       "      <td>31</td>\n",
       "      <td>2/17/2019</td>\n",
       "      <td>3</td>\n",
       "      <td>married</td>\n",
       "      <td>40423</td>\n",
       "    </tr>\n",
       "    <tr>\n",
       "      <th>3</th>\n",
       "      <td>2254736</td>\n",
       "      <td>1</td>\n",
       "      <td>4</td>\n",
       "      <td>4</td>\n",
       "      <td>7</td>\n",
       "      <td>29.0</td>\n",
       "      <td>196</td>\n",
       "      <td>1</td>\n",
       "      <td>1</td>\n",
       "      <td>Soda</td>\n",
       "      <td>...</td>\n",
       "      <td>Non-frequent customer.</td>\n",
       "      <td>Linda</td>\n",
       "      <td>Nguyen</td>\n",
       "      <td>Female</td>\n",
       "      <td>Alabama</td>\n",
       "      <td>31</td>\n",
       "      <td>2/17/2019</td>\n",
       "      <td>3</td>\n",
       "      <td>married</td>\n",
       "      <td>40423</td>\n",
       "    </tr>\n",
       "    <tr>\n",
       "      <th>4</th>\n",
       "      <td>431534</td>\n",
       "      <td>1</td>\n",
       "      <td>5</td>\n",
       "      <td>4</td>\n",
       "      <td>15</td>\n",
       "      <td>28.0</td>\n",
       "      <td>196</td>\n",
       "      <td>1</td>\n",
       "      <td>1</td>\n",
       "      <td>Soda</td>\n",
       "      <td>...</td>\n",
       "      <td>Non-frequent customer.</td>\n",
       "      <td>Linda</td>\n",
       "      <td>Nguyen</td>\n",
       "      <td>Female</td>\n",
       "      <td>Alabama</td>\n",
       "      <td>31</td>\n",
       "      <td>2/17/2019</td>\n",
       "      <td>3</td>\n",
       "      <td>married</td>\n",
       "      <td>40423</td>\n",
       "    </tr>\n",
       "  </tbody>\n",
       "</table>\n",
       "<p>5 rows × 33 columns</p>\n",
       "</div>"
      ],
      "text/plain": [
       "   order_id user_id  order_number  order_day_of_week  order_hour_of_day  \\\n",
       "0   2539329       1             1                  2                  8   \n",
       "1   2398795       1             2                  3                  7   \n",
       "2    473747       1             3                  3                 12   \n",
       "3   2254736       1             4                  4                  7   \n",
       "4    431534       1             5                  4                 15   \n",
       "\n",
       "   days_since_last_order  product_id  add_to_cart_order  reordered  \\\n",
       "0                    NaN         196                  1          0   \n",
       "1                   15.0         196                  1          1   \n",
       "2                   21.0         196                  1          1   \n",
       "3                   29.0         196                  1          1   \n",
       "4                   28.0         196                  1          1   \n",
       "\n",
       "  product_name  ...    order_frequency_flag  first_name  last_name  gender  \\\n",
       "0         Soda  ...  Non-frequent customer.       Linda     Nguyen  Female   \n",
       "1         Soda  ...  Non-frequent customer.       Linda     Nguyen  Female   \n",
       "2         Soda  ...  Non-frequent customer.       Linda     Nguyen  Female   \n",
       "3         Soda  ...  Non-frequent customer.       Linda     Nguyen  Female   \n",
       "4         Soda  ...  Non-frequent customer.       Linda     Nguyen  Female   \n",
       "\n",
       "     state age date_joined number_dependents  marital_status income  \n",
       "0  Alabama  31   2/17/2019                 3         married  40423  \n",
       "1  Alabama  31   2/17/2019                 3         married  40423  \n",
       "2  Alabama  31   2/17/2019                 3         married  40423  \n",
       "3  Alabama  31   2/17/2019                 3         married  40423  \n",
       "4  Alabama  31   2/17/2019                 3         married  40423  \n",
       "\n",
       "[5 rows x 33 columns]"
      ]
     },
     "execution_count": 5,
     "metadata": {},
     "output_type": "execute_result"
    }
   ],
   "source": [
    "#Validating the data set\n",
    "instacart_with_customers.head()"
   ]
  },
  {
   "cell_type": "code",
   "execution_count": 6,
   "id": "0cad49f9",
   "metadata": {},
   "outputs": [
    {
     "data": {
      "text/plain": [
       "(32404859, 33)"
      ]
     },
     "execution_count": 6,
     "metadata": {},
     "output_type": "execute_result"
    }
   ],
   "source": [
    "# checking the dimensions\n",
    "instacart_with_customers.shape"
   ]
  },
  {
   "cell_type": "markdown",
   "id": "7d1a19ce",
   "metadata": {},
   "source": [
    "### Question 2"
   ]
  },
  {
   "cell_type": "markdown",
   "id": "c6b368dc",
   "metadata": {},
   "source": [
    "**PII data Implications**\n"
   ]
  },
  {
   "cell_type": "markdown",
   "id": "ab8bb9e4",
   "metadata": {},
   "source": [
    "Customers first and last name are fields which forms part of PII data. Hence, these columns are being removed from the data set."
   ]
  },
  {
   "cell_type": "code",
   "execution_count": 7,
   "id": "001fcb7d",
   "metadata": {},
   "outputs": [],
   "source": [
    "instacart_with_customers.drop(['first_name','last_name','_merge','prior_order_median'], axis = 1, inplace = True)"
   ]
  },
  {
   "cell_type": "code",
   "execution_count": 8,
   "id": "e9b1334c",
   "metadata": {},
   "outputs": [
    {
     "data": {
      "text/html": [
       "<div>\n",
       "<style scoped>\n",
       "    .dataframe tbody tr th:only-of-type {\n",
       "        vertical-align: middle;\n",
       "    }\n",
       "\n",
       "    .dataframe tbody tr th {\n",
       "        vertical-align: top;\n",
       "    }\n",
       "\n",
       "    .dataframe thead th {\n",
       "        text-align: right;\n",
       "    }\n",
       "</style>\n",
       "<table border=\"1\" class=\"dataframe\">\n",
       "  <thead>\n",
       "    <tr style=\"text-align: right;\">\n",
       "      <th></th>\n",
       "      <th>order_id</th>\n",
       "      <th>user_id</th>\n",
       "      <th>order_number</th>\n",
       "      <th>order_day_of_week</th>\n",
       "      <th>order_hour_of_day</th>\n",
       "      <th>days_since_last_order</th>\n",
       "      <th>product_id</th>\n",
       "      <th>add_to_cart_order</th>\n",
       "      <th>reordered</th>\n",
       "      <th>product_name</th>\n",
       "      <th>...</th>\n",
       "      <th>average_price</th>\n",
       "      <th>spending_flag</th>\n",
       "      <th>order_frequency_flag</th>\n",
       "      <th>gender</th>\n",
       "      <th>state</th>\n",
       "      <th>age</th>\n",
       "      <th>date_joined</th>\n",
       "      <th>number_dependents</th>\n",
       "      <th>marital_status</th>\n",
       "      <th>income</th>\n",
       "    </tr>\n",
       "  </thead>\n",
       "  <tbody>\n",
       "    <tr>\n",
       "      <th>0</th>\n",
       "      <td>2539329</td>\n",
       "      <td>1</td>\n",
       "      <td>1</td>\n",
       "      <td>2</td>\n",
       "      <td>8</td>\n",
       "      <td>NaN</td>\n",
       "      <td>196</td>\n",
       "      <td>1</td>\n",
       "      <td>0</td>\n",
       "      <td>Soda</td>\n",
       "      <td>...</td>\n",
       "      <td>6.367797</td>\n",
       "      <td>Low Spender</td>\n",
       "      <td>Non-frequent customer.</td>\n",
       "      <td>Female</td>\n",
       "      <td>Alabama</td>\n",
       "      <td>31</td>\n",
       "      <td>2/17/2019</td>\n",
       "      <td>3</td>\n",
       "      <td>married</td>\n",
       "      <td>40423</td>\n",
       "    </tr>\n",
       "    <tr>\n",
       "      <th>1</th>\n",
       "      <td>2398795</td>\n",
       "      <td>1</td>\n",
       "      <td>2</td>\n",
       "      <td>3</td>\n",
       "      <td>7</td>\n",
       "      <td>15.0</td>\n",
       "      <td>196</td>\n",
       "      <td>1</td>\n",
       "      <td>1</td>\n",
       "      <td>Soda</td>\n",
       "      <td>...</td>\n",
       "      <td>6.367797</td>\n",
       "      <td>Low Spender</td>\n",
       "      <td>Non-frequent customer.</td>\n",
       "      <td>Female</td>\n",
       "      <td>Alabama</td>\n",
       "      <td>31</td>\n",
       "      <td>2/17/2019</td>\n",
       "      <td>3</td>\n",
       "      <td>married</td>\n",
       "      <td>40423</td>\n",
       "    </tr>\n",
       "    <tr>\n",
       "      <th>2</th>\n",
       "      <td>473747</td>\n",
       "      <td>1</td>\n",
       "      <td>3</td>\n",
       "      <td>3</td>\n",
       "      <td>12</td>\n",
       "      <td>21.0</td>\n",
       "      <td>196</td>\n",
       "      <td>1</td>\n",
       "      <td>1</td>\n",
       "      <td>Soda</td>\n",
       "      <td>...</td>\n",
       "      <td>6.367797</td>\n",
       "      <td>Low Spender</td>\n",
       "      <td>Non-frequent customer.</td>\n",
       "      <td>Female</td>\n",
       "      <td>Alabama</td>\n",
       "      <td>31</td>\n",
       "      <td>2/17/2019</td>\n",
       "      <td>3</td>\n",
       "      <td>married</td>\n",
       "      <td>40423</td>\n",
       "    </tr>\n",
       "    <tr>\n",
       "      <th>3</th>\n",
       "      <td>2254736</td>\n",
       "      <td>1</td>\n",
       "      <td>4</td>\n",
       "      <td>4</td>\n",
       "      <td>7</td>\n",
       "      <td>29.0</td>\n",
       "      <td>196</td>\n",
       "      <td>1</td>\n",
       "      <td>1</td>\n",
       "      <td>Soda</td>\n",
       "      <td>...</td>\n",
       "      <td>6.367797</td>\n",
       "      <td>Low Spender</td>\n",
       "      <td>Non-frequent customer.</td>\n",
       "      <td>Female</td>\n",
       "      <td>Alabama</td>\n",
       "      <td>31</td>\n",
       "      <td>2/17/2019</td>\n",
       "      <td>3</td>\n",
       "      <td>married</td>\n",
       "      <td>40423</td>\n",
       "    </tr>\n",
       "    <tr>\n",
       "      <th>4</th>\n",
       "      <td>431534</td>\n",
       "      <td>1</td>\n",
       "      <td>5</td>\n",
       "      <td>4</td>\n",
       "      <td>15</td>\n",
       "      <td>28.0</td>\n",
       "      <td>196</td>\n",
       "      <td>1</td>\n",
       "      <td>1</td>\n",
       "      <td>Soda</td>\n",
       "      <td>...</td>\n",
       "      <td>6.367797</td>\n",
       "      <td>Low Spender</td>\n",
       "      <td>Non-frequent customer.</td>\n",
       "      <td>Female</td>\n",
       "      <td>Alabama</td>\n",
       "      <td>31</td>\n",
       "      <td>2/17/2019</td>\n",
       "      <td>3</td>\n",
       "      <td>married</td>\n",
       "      <td>40423</td>\n",
       "    </tr>\n",
       "  </tbody>\n",
       "</table>\n",
       "<p>5 rows × 29 columns</p>\n",
       "</div>"
      ],
      "text/plain": [
       "   order_id user_id  order_number  order_day_of_week  order_hour_of_day  \\\n",
       "0   2539329       1             1                  2                  8   \n",
       "1   2398795       1             2                  3                  7   \n",
       "2    473747       1             3                  3                 12   \n",
       "3   2254736       1             4                  4                  7   \n",
       "4    431534       1             5                  4                 15   \n",
       "\n",
       "   days_since_last_order  product_id  add_to_cart_order  reordered  \\\n",
       "0                    NaN         196                  1          0   \n",
       "1                   15.0         196                  1          1   \n",
       "2                   21.0         196                  1          1   \n",
       "3                   29.0         196                  1          1   \n",
       "4                   28.0         196                  1          1   \n",
       "\n",
       "  product_name  ...  average_price  spending_flag    order_frequency_flag  \\\n",
       "0         Soda  ...       6.367797    Low Spender  Non-frequent customer.   \n",
       "1         Soda  ...       6.367797    Low Spender  Non-frequent customer.   \n",
       "2         Soda  ...       6.367797    Low Spender  Non-frequent customer.   \n",
       "3         Soda  ...       6.367797    Low Spender  Non-frequent customer.   \n",
       "4         Soda  ...       6.367797    Low Spender  Non-frequent customer.   \n",
       "\n",
       "   gender    state age date_joined  number_dependents marital_status  income  \n",
       "0  Female  Alabama  31   2/17/2019                  3        married   40423  \n",
       "1  Female  Alabama  31   2/17/2019                  3        married   40423  \n",
       "2  Female  Alabama  31   2/17/2019                  3        married   40423  \n",
       "3  Female  Alabama  31   2/17/2019                  3        married   40423  \n",
       "4  Female  Alabama  31   2/17/2019                  3        married   40423  \n",
       "\n",
       "[5 rows x 29 columns]"
      ]
     },
     "execution_count": 8,
     "metadata": {},
     "output_type": "execute_result"
    }
   ],
   "source": [
    "#Checking the updated data set\n",
    "instacart_with_customers.head()"
   ]
  },
  {
   "cell_type": "code",
   "execution_count": 9,
   "id": "3a1612fb",
   "metadata": {},
   "outputs": [
    {
     "data": {
      "text/plain": [
       "order_id                   int64\n",
       "user_id                   object\n",
       "order_number               int64\n",
       "order_day_of_week          int64\n",
       "order_hour_of_day          int64\n",
       "days_since_last_order    float64\n",
       "product_id                 int64\n",
       "add_to_cart_order          int64\n",
       "reordered                  int64\n",
       "product_name              object\n",
       "aisle_id                   int64\n",
       "department_id              int64\n",
       "prices                   float64\n",
       "price_range_loc           object\n",
       "busiest_day               object\n",
       "Busiest_days              object\n",
       "busiest_period_of_day     object\n",
       "max_order                  int64\n",
       "loyalty_flag              object\n",
       "average_price            float64\n",
       "spending_flag             object\n",
       "order_frequency_flag      object\n",
       "gender                    object\n",
       "state                     object\n",
       "age                        int64\n",
       "date_joined               object\n",
       "number_dependents          int64\n",
       "marital_status            object\n",
       "income                     int64\n",
       "dtype: object"
      ]
     },
     "execution_count": 9,
     "metadata": {},
     "output_type": "execute_result"
    }
   ],
   "source": [
    "#Checking the data types\n",
    "instacart_with_customers.dtypes"
   ]
  },
  {
   "cell_type": "markdown",
   "id": "ee37b9e8",
   "metadata": {},
   "source": [
    "### Regional Segmentation of data"
   ]
  },
  {
   "cell_type": "code",
   "execution_count": 10,
   "id": "c5a74efa",
   "metadata": {},
   "outputs": [],
   "source": [
    "#First let's create lists for the Regions by adding states as contents of lists\n",
    "northeast = ['Maine', 'New Hampshire', 'Vermont', 'Massachusetts', 'Rhode Island', 'Connecticut', 'New York', 'Pennsylvania', 'New Jersey']\n",
    "midwest = ['Wisconsin', 'Michigan', 'Illinois', 'Indiana', 'Ohio', 'North Dakota', 'South Dakota', 'Nebraska', 'Kansas', 'Minnesota', 'Iowa', 'Missouri']\n",
    "south = ['Delaware', 'Maryland', 'District of Columbia', 'Virginia', 'West Virginia', 'North Carolina', 'South Carolina', 'Georgia', 'Florida', 'Kentucky', 'Tennessee', 'Mississippi', 'Alabama', 'Oklahoma', 'Texas', 'Arkansas', 'Louisiana']\n",
    "west = ['Idaho', 'Montana', 'Wyoming', 'Nevada', 'Utah', 'Colorado', 'Arizona', 'New Mexico', 'Alaska', 'Washington', 'Oregon', 'California', 'Hawaii']"
   ]
  },
  {
   "cell_type": "code",
   "execution_count": 11,
   "id": "5d232dde",
   "metadata": {},
   "outputs": [],
   "source": [
    "#We are using loc function to move the states into the Region for the whole dataset\n",
    "instacart_with_customers.loc[instacart_with_customers['state'].isin(northeast),'region'] = 'NorthEast'\n",
    "instacart_with_customers.loc[instacart_with_customers['state'].isin(midwest),'region'] = 'MidWest'\n",
    "instacart_with_customers.loc[instacart_with_customers['state'].isin(south),'region'] = 'South'\n",
    "instacart_with_customers.loc[instacart_with_customers['state'].isin(west),'region'] = 'West'"
   ]
  },
  {
   "cell_type": "code",
   "execution_count": 12,
   "id": "4e7a80d5",
   "metadata": {},
   "outputs": [
    {
     "data": {
      "text/html": [
       "<div>\n",
       "<style scoped>\n",
       "    .dataframe tbody tr th:only-of-type {\n",
       "        vertical-align: middle;\n",
       "    }\n",
       "\n",
       "    .dataframe tbody tr th {\n",
       "        vertical-align: top;\n",
       "    }\n",
       "\n",
       "    .dataframe thead th {\n",
       "        text-align: right;\n",
       "    }\n",
       "</style>\n",
       "<table border=\"1\" class=\"dataframe\">\n",
       "  <thead>\n",
       "    <tr style=\"text-align: right;\">\n",
       "      <th></th>\n",
       "      <th>order_id</th>\n",
       "      <th>user_id</th>\n",
       "      <th>order_number</th>\n",
       "      <th>order_day_of_week</th>\n",
       "      <th>order_hour_of_day</th>\n",
       "      <th>days_since_last_order</th>\n",
       "      <th>product_id</th>\n",
       "      <th>add_to_cart_order</th>\n",
       "      <th>reordered</th>\n",
       "      <th>product_name</th>\n",
       "      <th>...</th>\n",
       "      <th>spending_flag</th>\n",
       "      <th>order_frequency_flag</th>\n",
       "      <th>gender</th>\n",
       "      <th>state</th>\n",
       "      <th>age</th>\n",
       "      <th>date_joined</th>\n",
       "      <th>number_dependents</th>\n",
       "      <th>marital_status</th>\n",
       "      <th>income</th>\n",
       "      <th>region</th>\n",
       "    </tr>\n",
       "  </thead>\n",
       "  <tbody>\n",
       "    <tr>\n",
       "      <th>0</th>\n",
       "      <td>2539329</td>\n",
       "      <td>1</td>\n",
       "      <td>1</td>\n",
       "      <td>2</td>\n",
       "      <td>8</td>\n",
       "      <td>NaN</td>\n",
       "      <td>196</td>\n",
       "      <td>1</td>\n",
       "      <td>0</td>\n",
       "      <td>Soda</td>\n",
       "      <td>...</td>\n",
       "      <td>Low Spender</td>\n",
       "      <td>Non-frequent customer.</td>\n",
       "      <td>Female</td>\n",
       "      <td>Alabama</td>\n",
       "      <td>31</td>\n",
       "      <td>2/17/2019</td>\n",
       "      <td>3</td>\n",
       "      <td>married</td>\n",
       "      <td>40423</td>\n",
       "      <td>South</td>\n",
       "    </tr>\n",
       "    <tr>\n",
       "      <th>1</th>\n",
       "      <td>2398795</td>\n",
       "      <td>1</td>\n",
       "      <td>2</td>\n",
       "      <td>3</td>\n",
       "      <td>7</td>\n",
       "      <td>15.0</td>\n",
       "      <td>196</td>\n",
       "      <td>1</td>\n",
       "      <td>1</td>\n",
       "      <td>Soda</td>\n",
       "      <td>...</td>\n",
       "      <td>Low Spender</td>\n",
       "      <td>Non-frequent customer.</td>\n",
       "      <td>Female</td>\n",
       "      <td>Alabama</td>\n",
       "      <td>31</td>\n",
       "      <td>2/17/2019</td>\n",
       "      <td>3</td>\n",
       "      <td>married</td>\n",
       "      <td>40423</td>\n",
       "      <td>South</td>\n",
       "    </tr>\n",
       "    <tr>\n",
       "      <th>2</th>\n",
       "      <td>473747</td>\n",
       "      <td>1</td>\n",
       "      <td>3</td>\n",
       "      <td>3</td>\n",
       "      <td>12</td>\n",
       "      <td>21.0</td>\n",
       "      <td>196</td>\n",
       "      <td>1</td>\n",
       "      <td>1</td>\n",
       "      <td>Soda</td>\n",
       "      <td>...</td>\n",
       "      <td>Low Spender</td>\n",
       "      <td>Non-frequent customer.</td>\n",
       "      <td>Female</td>\n",
       "      <td>Alabama</td>\n",
       "      <td>31</td>\n",
       "      <td>2/17/2019</td>\n",
       "      <td>3</td>\n",
       "      <td>married</td>\n",
       "      <td>40423</td>\n",
       "      <td>South</td>\n",
       "    </tr>\n",
       "    <tr>\n",
       "      <th>3</th>\n",
       "      <td>2254736</td>\n",
       "      <td>1</td>\n",
       "      <td>4</td>\n",
       "      <td>4</td>\n",
       "      <td>7</td>\n",
       "      <td>29.0</td>\n",
       "      <td>196</td>\n",
       "      <td>1</td>\n",
       "      <td>1</td>\n",
       "      <td>Soda</td>\n",
       "      <td>...</td>\n",
       "      <td>Low Spender</td>\n",
       "      <td>Non-frequent customer.</td>\n",
       "      <td>Female</td>\n",
       "      <td>Alabama</td>\n",
       "      <td>31</td>\n",
       "      <td>2/17/2019</td>\n",
       "      <td>3</td>\n",
       "      <td>married</td>\n",
       "      <td>40423</td>\n",
       "      <td>South</td>\n",
       "    </tr>\n",
       "    <tr>\n",
       "      <th>4</th>\n",
       "      <td>431534</td>\n",
       "      <td>1</td>\n",
       "      <td>5</td>\n",
       "      <td>4</td>\n",
       "      <td>15</td>\n",
       "      <td>28.0</td>\n",
       "      <td>196</td>\n",
       "      <td>1</td>\n",
       "      <td>1</td>\n",
       "      <td>Soda</td>\n",
       "      <td>...</td>\n",
       "      <td>Low Spender</td>\n",
       "      <td>Non-frequent customer.</td>\n",
       "      <td>Female</td>\n",
       "      <td>Alabama</td>\n",
       "      <td>31</td>\n",
       "      <td>2/17/2019</td>\n",
       "      <td>3</td>\n",
       "      <td>married</td>\n",
       "      <td>40423</td>\n",
       "      <td>South</td>\n",
       "    </tr>\n",
       "  </tbody>\n",
       "</table>\n",
       "<p>5 rows × 30 columns</p>\n",
       "</div>"
      ],
      "text/plain": [
       "   order_id user_id  order_number  order_day_of_week  order_hour_of_day  \\\n",
       "0   2539329       1             1                  2                  8   \n",
       "1   2398795       1             2                  3                  7   \n",
       "2    473747       1             3                  3                 12   \n",
       "3   2254736       1             4                  4                  7   \n",
       "4    431534       1             5                  4                 15   \n",
       "\n",
       "   days_since_last_order  product_id  add_to_cart_order  reordered  \\\n",
       "0                    NaN         196                  1          0   \n",
       "1                   15.0         196                  1          1   \n",
       "2                   21.0         196                  1          1   \n",
       "3                   29.0         196                  1          1   \n",
       "4                   28.0         196                  1          1   \n",
       "\n",
       "  product_name  ...  spending_flag    order_frequency_flag  gender    state  \\\n",
       "0         Soda  ...    Low Spender  Non-frequent customer.  Female  Alabama   \n",
       "1         Soda  ...    Low Spender  Non-frequent customer.  Female  Alabama   \n",
       "2         Soda  ...    Low Spender  Non-frequent customer.  Female  Alabama   \n",
       "3         Soda  ...    Low Spender  Non-frequent customer.  Female  Alabama   \n",
       "4         Soda  ...    Low Spender  Non-frequent customer.  Female  Alabama   \n",
       "\n",
       "  age date_joined number_dependents  marital_status income  region  \n",
       "0  31   2/17/2019                 3         married  40423   South  \n",
       "1  31   2/17/2019                 3         married  40423   South  \n",
       "2  31   2/17/2019                 3         married  40423   South  \n",
       "3  31   2/17/2019                 3         married  40423   South  \n",
       "4  31   2/17/2019                 3         married  40423   South  \n",
       "\n",
       "[5 rows x 30 columns]"
      ]
     },
     "execution_count": 12,
     "metadata": {},
     "output_type": "execute_result"
    }
   ],
   "source": [
    "#Validating the Region column in the dataset\n",
    "instacart_with_customers.head()"
   ]
  },
  {
   "cell_type": "code",
   "execution_count": 13,
   "id": "1f0ba6a9",
   "metadata": {},
   "outputs": [
    {
     "data": {
      "text/plain": [
       "South        10791885\n",
       "West          8292913\n",
       "MidWest       7597325\n",
       "NorthEast     5722736\n",
       "Name: region, dtype: int64"
      ]
     },
     "execution_count": 13,
     "metadata": {},
     "output_type": "execute_result"
    }
   ],
   "source": [
    "# Frequency Table\n",
    "instacart_with_customers['region'].value_counts(dropna = False)"
   ]
  },
  {
   "cell_type": "code",
   "execution_count": 14,
   "id": "223a997d",
   "metadata": {},
   "outputs": [
    {
     "data": {
      "text/plain": [
       "Text(0.5, 1.0, 'Number of Customers By Region')"
      ]
     },
     "execution_count": 14,
     "metadata": {},
     "output_type": "execute_result"
    },
    {
     "data": {
      "image/png": "[encoded data removed]",
      "text/plain": [
       "<Figure size 640x480 with 1 Axes>"
      ]
     },
     "metadata": {},
     "output_type": "display_data"
    }
   ],
   "source": [
    "# Creating a bar plot to show the customers of the company across Regions\n",
    "customer_region = instacart_with_customers['region'].value_counts(dropna = False).plot.bar(color = ['blue','red','gray','silver'])\n",
    "for container in customer_region.containers:\n",
    "    customer_region.bar_label(container,padding=2)\n",
    "plt.title('Number of Customers By Region')"
   ]
  },
  {
   "cell_type": "code",
   "execution_count": 15,
   "id": "8b86089b",
   "metadata": {},
   "outputs": [],
   "source": [
    "#Saving the above visualization locally by exporting the above chart\n",
    "customer_region.figure.savefig(os.path.join(path,'Analysis','Visualizations','customers_region_bar.png'),bbox_inches='tight')"
   ]
  },
  {
   "cell_type": "markdown",
   "id": "3422d100",
   "metadata": {},
   "source": [
    "### Question 3.2 - Spending Habits between Different US Regions"
   ]
  },
  {
   "cell_type": "code",
   "execution_count": 16,
   "id": "a17e15ad",
   "metadata": {},
   "outputs": [],
   "source": [
    "#Checking the difference in spending habits between the Regions\n",
    "crosstab_spending_habits_region = pd.crosstab(instacart_with_customers['region'],instacart_with_customers['spending_flag'],dropna= False)"
   ]
  },
  {
   "cell_type": "code",
   "execution_count": 43,
   "id": "fd897d01",
   "metadata": {},
   "outputs": [
    {
     "data": {
      "text/html": [
       "<div>\n",
       "<style scoped>\n",
       "    .dataframe tbody tr th:only-of-type {\n",
       "        vertical-align: middle;\n",
       "    }\n",
       "\n",
       "    .dataframe tbody tr th {\n",
       "        vertical-align: top;\n",
       "    }\n",
       "\n",
       "    .dataframe thead th {\n",
       "        text-align: right;\n",
       "    }\n",
       "</style>\n",
       "<table border=\"1\" class=\"dataframe\">\n",
       "  <thead>\n",
       "    <tr style=\"text-align: right;\">\n",
       "      <th>spending_flag</th>\n",
       "      <th>High Spender</th>\n",
       "      <th>Low Spender</th>\n",
       "    </tr>\n",
       "    <tr>\n",
       "      <th>region</th>\n",
       "      <th></th>\n",
       "      <th></th>\n",
       "    </tr>\n",
       "  </thead>\n",
       "  <tbody>\n",
       "    <tr>\n",
       "      <th>MidWest</th>\n",
       "      <td>29265</td>\n",
       "      <td>7568060</td>\n",
       "    </tr>\n",
       "    <tr>\n",
       "      <th>NorthEast</th>\n",
       "      <td>18642</td>\n",
       "      <td>5704094</td>\n",
       "    </tr>\n",
       "    <tr>\n",
       "      <th>South</th>\n",
       "      <td>40579</td>\n",
       "      <td>10751306</td>\n",
       "    </tr>\n",
       "    <tr>\n",
       "      <th>West</th>\n",
       "      <td>31223</td>\n",
       "      <td>8261690</td>\n",
       "    </tr>\n",
       "  </tbody>\n",
       "</table>\n",
       "</div>"
      ],
      "text/plain": [
       "spending_flag  High Spender  Low Spender\n",
       "region                                  \n",
       "MidWest               29265      7568060\n",
       "NorthEast             18642      5704094\n",
       "South                 40579     10751306\n",
       "West                  31223      8261690"
      ]
     },
     "execution_count": 43,
     "metadata": {},
     "output_type": "execute_result"
    }
   ],
   "source": [
    "crosstab_spending_habits_region"
   ]
  },
  {
   "cell_type": "code",
   "execution_count": 61,
   "id": "3588c724",
   "metadata": {},
   "outputs": [
    {
     "data": {
      "text/plain": [
       "Text(0.5, 1.0, 'Spending Habits and Regions')"
      ]
     },
     "execution_count": 61,
     "metadata": {},
     "output_type": "execute_result"
    },
    {
     "data": {
      "image/png": "[encoded data removed]",
      "text/plain": [
       "<Figure size 640x480 with 2 Axes>"
      ]
     },
     "metadata": {},
     "output_type": "display_data"
    }
   ],
   "source": [
    "ba = crosstab_spending_habits_region.plot(kind = 'pie',subplots = True,autopct = '%1.1f%%', legend = None)\n",
    "\n",
    "plt.title('Spending Habits and Regions')\n"
   ]
  },
  {
   "cell_type": "code",
   "execution_count": null,
   "id": "9747a29a",
   "metadata": {},
   "outputs": [],
   "source": []
  },
  {
   "cell_type": "code",
   "execution_count": 1,
   "id": "453a7c78",
   "metadata": {},
   "outputs": [],
   "source": [
    "#Saving the above visualization locally by exporting the above chart\n",
    "#ba.figure.savefig(os.path.join(path,'Analysis','Visualizations','Spending_Habits_region_bar.png'),bbox_inches='tight')"
   ]
  },
  {
   "cell_type": "code",
   "execution_count": null,
   "id": "7b218ec2",
   "metadata": {},
   "outputs": [],
   "source": []
  },
  {
   "cell_type": "markdown",
   "id": "520a02ee",
   "metadata": {},
   "source": [
    "Analysis of the above spending Habits <br>\n",
    "1) The high spenders are higher in number in South, but proportionally slightly higher in the MidWest. <br>\n",
    "2) Based on the Cross Tab analysis, there does not seem to be very different spending habits in Regions with proportion to their population spending."
   ]
  },
  {
   "cell_type": "markdown",
   "id": "6ab87da1",
   "metadata": {},
   "source": [
    "**Region and Customer Base**"
   ]
  },
  {
   "cell_type": "code",
   "execution_count": 25,
   "id": "2068d9ca",
   "metadata": {},
   "outputs": [],
   "source": [
    "#Checking the customer pattern between the Regions\n",
    "crosstab_customers_region = pd.crosstab(instacart_with_customers['loyalty_flag'],instacart_with_customers['region'],dropna= False)"
   ]
  },
  {
   "cell_type": "code",
   "execution_count": 27,
   "id": "83e66843",
   "metadata": {},
   "outputs": [
    {
     "data": {
      "text/html": [
       "<div>\n",
       "<style scoped>\n",
       "    .dataframe tbody tr th:only-of-type {\n",
       "        vertical-align: middle;\n",
       "    }\n",
       "\n",
       "    .dataframe tbody tr th {\n",
       "        vertical-align: top;\n",
       "    }\n",
       "\n",
       "    .dataframe thead th {\n",
       "        text-align: right;\n",
       "    }\n",
       "</style>\n",
       "<table border=\"1\" class=\"dataframe\">\n",
       "  <thead>\n",
       "    <tr style=\"text-align: right;\">\n",
       "      <th>region</th>\n",
       "      <th>MidWest</th>\n",
       "      <th>NorthEast</th>\n",
       "      <th>South</th>\n",
       "      <th>West</th>\n",
       "    </tr>\n",
       "    <tr>\n",
       "      <th>loyalty_flag</th>\n",
       "      <th></th>\n",
       "      <th></th>\n",
       "      <th></th>\n",
       "      <th></th>\n",
       "    </tr>\n",
       "  </thead>\n",
       "  <tbody>\n",
       "    <tr>\n",
       "      <th>Loyal Customer</th>\n",
       "      <td>2373774</td>\n",
       "      <td>1841785</td>\n",
       "      <td>3405844</td>\n",
       "      <td>2662690</td>\n",
       "    </tr>\n",
       "    <tr>\n",
       "      <th>New Customer</th>\n",
       "      <td>1472573</td>\n",
       "      <td>1100207</td>\n",
       "      <td>2074410</td>\n",
       "      <td>1596800</td>\n",
       "    </tr>\n",
       "    <tr>\n",
       "      <th>Regular Customer</th>\n",
       "      <td>3750978</td>\n",
       "      <td>2780744</td>\n",
       "      <td>5311631</td>\n",
       "      <td>4033423</td>\n",
       "    </tr>\n",
       "  </tbody>\n",
       "</table>\n",
       "</div>"
      ],
      "text/plain": [
       "region            MidWest  NorthEast    South     West\n",
       "loyalty_flag                                          \n",
       "Loyal Customer    2373774    1841785  3405844  2662690\n",
       "New Customer      1472573    1100207  2074410  1596800\n",
       "Regular Customer  3750978    2780744  5311631  4033423"
      ]
     },
     "execution_count": 27,
     "metadata": {},
     "output_type": "execute_result"
    }
   ],
   "source": [
    "crosstab_customers_region"
   ]
  },
  {
   "cell_type": "code",
   "execution_count": 33,
   "id": "813e8775",
   "metadata": {},
   "outputs": [
    {
     "data": {
      "text/plain": [
       "Text(0, 0.5, 'Number of Customers')"
      ]
     },
     "execution_count": 33,
     "metadata": {},
     "output_type": "execute_result"
    },
    {
     "data": {
      "image/png": "[encoded data removed]",
      "text/plain": [
       "<Figure size 640x480 with 1 Axes>"
      ]
     },
     "metadata": {},
     "output_type": "display_data"
    }
   ],
   "source": [
    "a = crosstab_customers_region.plot(kind = 'bar')\n",
    "    \n",
    "plt.title('Loyalty Status and Regions')\n",
    "plt.ylabel('Number of Customers')"
   ]
  },
  {
   "cell_type": "code",
   "execution_count": 34,
   "id": "54c160d6",
   "metadata": {},
   "outputs": [],
   "source": [
    "#Saving the Visualization\n",
    "a.figure.savefig(os.path.join(path,'Analysis','Visualizations','Loyalty_regions.png'),bbox_inches='tight')"
   ]
  },
  {
   "cell_type": "code",
   "execution_count": null,
   "id": "831572cc",
   "metadata": {},
   "outputs": [],
   "source": []
  },
  {
   "cell_type": "code",
   "execution_count": null,
   "id": "ff254575",
   "metadata": {},
   "outputs": [],
   "source": []
  },
  {
   "cell_type": "markdown",
   "id": "b0ec018e",
   "metadata": {},
   "source": [
    "### Question 4 - Exclusion Flag for Low Activity Customers"
   ]
  },
  {
   "cell_type": "code",
   "execution_count": 18,
   "id": "70128342",
   "metadata": {},
   "outputs": [
    {
     "name": "stdout",
     "output_type": "stream",
     "text": [
      "<class 'pandas.core.frame.DataFrame'>\n",
      "Int64Index: 32404859 entries, 0 to 32404858\n",
      "Data columns (total 30 columns):\n",
      " #   Column                 Dtype  \n",
      "---  ------                 -----  \n",
      " 0   order_id               int64  \n",
      " 1   user_id                object \n",
      " 2   order_number           int64  \n",
      " 3   order_day_of_week      int64  \n",
      " 4   order_hour_of_day      int64  \n",
      " 5   days_since_last_order  float64\n",
      " 6   product_id             int64  \n",
      " 7   add_to_cart_order      int64  \n",
      " 8   reordered              int64  \n",
      " 9   product_name           object \n",
      " 10  aisle_id               int64  \n",
      " 11  department_id          int64  \n",
      " 12  prices                 float64\n",
      " 13  price_range_loc        object \n",
      " 14  busiest_day            object \n",
      " 15  Busiest_days           object \n",
      " 16  busiest_period_of_day  object \n",
      " 17  max_order              int64  \n",
      " 18  loyalty_flag           object \n",
      " 19  average_price          float64\n",
      " 20  spending_flag          object \n",
      " 21  order_frequency_flag   object \n",
      " 22  gender                 object \n",
      " 23  state                  object \n",
      " 24  age                    int64  \n",
      " 25  date_joined            object \n",
      " 26  number_dependents      int64  \n",
      " 27  marital_status         object \n",
      " 28  income                 int64  \n",
      " 29  region                 object \n",
      "dtypes: float64(3), int64(13), object(14)\n",
      "memory usage: 7.5+ GB\n"
     ]
    }
   ],
   "source": [
    "instacart_with_customers.info()"
   ]
  },
  {
   "cell_type": "code",
   "execution_count": 19,
   "id": "8365f19b",
   "metadata": {},
   "outputs": [
    {
     "data": {
      "text/plain": [
       "0    10\n",
       "1    10\n",
       "2    10\n",
       "3    10\n",
       "4    10\n",
       "Name: max_order, dtype: int64"
      ]
     },
     "execution_count": 19,
     "metadata": {},
     "output_type": "execute_result"
    }
   ],
   "source": [
    "#By Viewing the columns, we can see that there is a max_order column which determines the number of orders\n",
    "instacart_with_customers['max_order'].head()"
   ]
  },
  {
   "cell_type": "code",
   "execution_count": 20,
   "id": "a08004a7",
   "metadata": {},
   "outputs": [],
   "source": [
    "#Creating an Exclusion Flag for Customers with less than 5 Orders\n",
    "instacart_with_customers.loc[instacart_with_customers['max_order'] < 5, 'Order_Flag'] = 'Low-Activity-Customer'"
   ]
  },
  {
   "cell_type": "code",
   "execution_count": 21,
   "id": "f849dde8",
   "metadata": {},
   "outputs": [],
   "source": [
    "instacart_with_customers.loc[instacart_with_customers['max_order'] >= 5, 'Order_Flag'] = 'High-Activity-Customer'"
   ]
  },
  {
   "cell_type": "code",
   "execution_count": 22,
   "id": "e48658a1",
   "metadata": {},
   "outputs": [
    {
     "data": {
      "text/html": [
       "<div>\n",
       "<style scoped>\n",
       "    .dataframe tbody tr th:only-of-type {\n",
       "        vertical-align: middle;\n",
       "    }\n",
       "\n",
       "    .dataframe tbody tr th {\n",
       "        vertical-align: top;\n",
       "    }\n",
       "\n",
       "    .dataframe thead th {\n",
       "        text-align: right;\n",
       "    }\n",
       "</style>\n",
       "<table border=\"1\" class=\"dataframe\">\n",
       "  <thead>\n",
       "    <tr style=\"text-align: right;\">\n",
       "      <th></th>\n",
       "      <th>order_id</th>\n",
       "      <th>user_id</th>\n",
       "      <th>order_number</th>\n",
       "      <th>order_day_of_week</th>\n",
       "      <th>order_hour_of_day</th>\n",
       "      <th>days_since_last_order</th>\n",
       "      <th>product_id</th>\n",
       "      <th>add_to_cart_order</th>\n",
       "      <th>reordered</th>\n",
       "      <th>product_name</th>\n",
       "      <th>...</th>\n",
       "      <th>order_frequency_flag</th>\n",
       "      <th>gender</th>\n",
       "      <th>state</th>\n",
       "      <th>age</th>\n",
       "      <th>date_joined</th>\n",
       "      <th>number_dependents</th>\n",
       "      <th>marital_status</th>\n",
       "      <th>income</th>\n",
       "      <th>region</th>\n",
       "      <th>Order_Flag</th>\n",
       "    </tr>\n",
       "  </thead>\n",
       "  <tbody>\n",
       "    <tr>\n",
       "      <th>0</th>\n",
       "      <td>2539329</td>\n",
       "      <td>1</td>\n",
       "      <td>1</td>\n",
       "      <td>2</td>\n",
       "      <td>8</td>\n",
       "      <td>NaN</td>\n",
       "      <td>196</td>\n",
       "      <td>1</td>\n",
       "      <td>0</td>\n",
       "      <td>Soda</td>\n",
       "      <td>...</td>\n",
       "      <td>Non-frequent customer.</td>\n",
       "      <td>Female</td>\n",
       "      <td>Alabama</td>\n",
       "      <td>31</td>\n",
       "      <td>2/17/2019</td>\n",
       "      <td>3</td>\n",
       "      <td>married</td>\n",
       "      <td>40423</td>\n",
       "      <td>South</td>\n",
       "      <td>High-Activity-Customer</td>\n",
       "    </tr>\n",
       "    <tr>\n",
       "      <th>1</th>\n",
       "      <td>2398795</td>\n",
       "      <td>1</td>\n",
       "      <td>2</td>\n",
       "      <td>3</td>\n",
       "      <td>7</td>\n",
       "      <td>15.0</td>\n",
       "      <td>196</td>\n",
       "      <td>1</td>\n",
       "      <td>1</td>\n",
       "      <td>Soda</td>\n",
       "      <td>...</td>\n",
       "      <td>Non-frequent customer.</td>\n",
       "      <td>Female</td>\n",
       "      <td>Alabama</td>\n",
       "      <td>31</td>\n",
       "      <td>2/17/2019</td>\n",
       "      <td>3</td>\n",
       "      <td>married</td>\n",
       "      <td>40423</td>\n",
       "      <td>South</td>\n",
       "      <td>High-Activity-Customer</td>\n",
       "    </tr>\n",
       "    <tr>\n",
       "      <th>2</th>\n",
       "      <td>473747</td>\n",
       "      <td>1</td>\n",
       "      <td>3</td>\n",
       "      <td>3</td>\n",
       "      <td>12</td>\n",
       "      <td>21.0</td>\n",
       "      <td>196</td>\n",
       "      <td>1</td>\n",
       "      <td>1</td>\n",
       "      <td>Soda</td>\n",
       "      <td>...</td>\n",
       "      <td>Non-frequent customer.</td>\n",
       "      <td>Female</td>\n",
       "      <td>Alabama</td>\n",
       "      <td>31</td>\n",
       "      <td>2/17/2019</td>\n",
       "      <td>3</td>\n",
       "      <td>married</td>\n",
       "      <td>40423</td>\n",
       "      <td>South</td>\n",
       "      <td>High-Activity-Customer</td>\n",
       "    </tr>\n",
       "    <tr>\n",
       "      <th>3</th>\n",
       "      <td>2254736</td>\n",
       "      <td>1</td>\n",
       "      <td>4</td>\n",
       "      <td>4</td>\n",
       "      <td>7</td>\n",
       "      <td>29.0</td>\n",
       "      <td>196</td>\n",
       "      <td>1</td>\n",
       "      <td>1</td>\n",
       "      <td>Soda</td>\n",
       "      <td>...</td>\n",
       "      <td>Non-frequent customer.</td>\n",
       "      <td>Female</td>\n",
       "      <td>Alabama</td>\n",
       "      <td>31</td>\n",
       "      <td>2/17/2019</td>\n",
       "      <td>3</td>\n",
       "      <td>married</td>\n",
       "      <td>40423</td>\n",
       "      <td>South</td>\n",
       "      <td>High-Activity-Customer</td>\n",
       "    </tr>\n",
       "    <tr>\n",
       "      <th>4</th>\n",
       "      <td>431534</td>\n",
       "      <td>1</td>\n",
       "      <td>5</td>\n",
       "      <td>4</td>\n",
       "      <td>15</td>\n",
       "      <td>28.0</td>\n",
       "      <td>196</td>\n",
       "      <td>1</td>\n",
       "      <td>1</td>\n",
       "      <td>Soda</td>\n",
       "      <td>...</td>\n",
       "      <td>Non-frequent customer.</td>\n",
       "      <td>Female</td>\n",
       "      <td>Alabama</td>\n",
       "      <td>31</td>\n",
       "      <td>2/17/2019</td>\n",
       "      <td>3</td>\n",
       "      <td>married</td>\n",
       "      <td>40423</td>\n",
       "      <td>South</td>\n",
       "      <td>High-Activity-Customer</td>\n",
       "    </tr>\n",
       "    <tr>\n",
       "      <th>5</th>\n",
       "      <td>3367565</td>\n",
       "      <td>1</td>\n",
       "      <td>6</td>\n",
       "      <td>2</td>\n",
       "      <td>7</td>\n",
       "      <td>19.0</td>\n",
       "      <td>196</td>\n",
       "      <td>1</td>\n",
       "      <td>1</td>\n",
       "      <td>Soda</td>\n",
       "      <td>...</td>\n",
       "      <td>Non-frequent customer.</td>\n",
       "      <td>Female</td>\n",
       "      <td>Alabama</td>\n",
       "      <td>31</td>\n",
       "      <td>2/17/2019</td>\n",
       "      <td>3</td>\n",
       "      <td>married</td>\n",
       "      <td>40423</td>\n",
       "      <td>South</td>\n",
       "      <td>High-Activity-Customer</td>\n",
       "    </tr>\n",
       "    <tr>\n",
       "      <th>6</th>\n",
       "      <td>550135</td>\n",
       "      <td>1</td>\n",
       "      <td>7</td>\n",
       "      <td>1</td>\n",
       "      <td>9</td>\n",
       "      <td>20.0</td>\n",
       "      <td>196</td>\n",
       "      <td>1</td>\n",
       "      <td>1</td>\n",
       "      <td>Soda</td>\n",
       "      <td>...</td>\n",
       "      <td>Non-frequent customer.</td>\n",
       "      <td>Female</td>\n",
       "      <td>Alabama</td>\n",
       "      <td>31</td>\n",
       "      <td>2/17/2019</td>\n",
       "      <td>3</td>\n",
       "      <td>married</td>\n",
       "      <td>40423</td>\n",
       "      <td>South</td>\n",
       "      <td>High-Activity-Customer</td>\n",
       "    </tr>\n",
       "    <tr>\n",
       "      <th>7</th>\n",
       "      <td>3108588</td>\n",
       "      <td>1</td>\n",
       "      <td>8</td>\n",
       "      <td>1</td>\n",
       "      <td>14</td>\n",
       "      <td>14.0</td>\n",
       "      <td>196</td>\n",
       "      <td>2</td>\n",
       "      <td>1</td>\n",
       "      <td>Soda</td>\n",
       "      <td>...</td>\n",
       "      <td>Non-frequent customer.</td>\n",
       "      <td>Female</td>\n",
       "      <td>Alabama</td>\n",
       "      <td>31</td>\n",
       "      <td>2/17/2019</td>\n",
       "      <td>3</td>\n",
       "      <td>married</td>\n",
       "      <td>40423</td>\n",
       "      <td>South</td>\n",
       "      <td>High-Activity-Customer</td>\n",
       "    </tr>\n",
       "    <tr>\n",
       "      <th>8</th>\n",
       "      <td>2295261</td>\n",
       "      <td>1</td>\n",
       "      <td>9</td>\n",
       "      <td>1</td>\n",
       "      <td>16</td>\n",
       "      <td>0.0</td>\n",
       "      <td>196</td>\n",
       "      <td>4</td>\n",
       "      <td>1</td>\n",
       "      <td>Soda</td>\n",
       "      <td>...</td>\n",
       "      <td>Non-frequent customer.</td>\n",
       "      <td>Female</td>\n",
       "      <td>Alabama</td>\n",
       "      <td>31</td>\n",
       "      <td>2/17/2019</td>\n",
       "      <td>3</td>\n",
       "      <td>married</td>\n",
       "      <td>40423</td>\n",
       "      <td>South</td>\n",
       "      <td>High-Activity-Customer</td>\n",
       "    </tr>\n",
       "    <tr>\n",
       "      <th>9</th>\n",
       "      <td>2550362</td>\n",
       "      <td>1</td>\n",
       "      <td>10</td>\n",
       "      <td>4</td>\n",
       "      <td>8</td>\n",
       "      <td>30.0</td>\n",
       "      <td>196</td>\n",
       "      <td>1</td>\n",
       "      <td>1</td>\n",
       "      <td>Soda</td>\n",
       "      <td>...</td>\n",
       "      <td>Non-frequent customer.</td>\n",
       "      <td>Female</td>\n",
       "      <td>Alabama</td>\n",
       "      <td>31</td>\n",
       "      <td>2/17/2019</td>\n",
       "      <td>3</td>\n",
       "      <td>married</td>\n",
       "      <td>40423</td>\n",
       "      <td>South</td>\n",
       "      <td>High-Activity-Customer</td>\n",
       "    </tr>\n",
       "  </tbody>\n",
       "</table>\n",
       "<p>10 rows × 31 columns</p>\n",
       "</div>"
      ],
      "text/plain": [
       "   order_id user_id  order_number  order_day_of_week  order_hour_of_day  \\\n",
       "0   2539329       1             1                  2                  8   \n",
       "1   2398795       1             2                  3                  7   \n",
       "2    473747       1             3                  3                 12   \n",
       "3   2254736       1             4                  4                  7   \n",
       "4    431534       1             5                  4                 15   \n",
       "5   3367565       1             6                  2                  7   \n",
       "6    550135       1             7                  1                  9   \n",
       "7   3108588       1             8                  1                 14   \n",
       "8   2295261       1             9                  1                 16   \n",
       "9   2550362       1            10                  4                  8   \n",
       "\n",
       "   days_since_last_order  product_id  add_to_cart_order  reordered  \\\n",
       "0                    NaN         196                  1          0   \n",
       "1                   15.0         196                  1          1   \n",
       "2                   21.0         196                  1          1   \n",
       "3                   29.0         196                  1          1   \n",
       "4                   28.0         196                  1          1   \n",
       "5                   19.0         196                  1          1   \n",
       "6                   20.0         196                  1          1   \n",
       "7                   14.0         196                  2          1   \n",
       "8                    0.0         196                  4          1   \n",
       "9                   30.0         196                  1          1   \n",
       "\n",
       "  product_name  ...    order_frequency_flag  gender    state age date_joined  \\\n",
       "0         Soda  ...  Non-frequent customer.  Female  Alabama  31   2/17/2019   \n",
       "1         Soda  ...  Non-frequent customer.  Female  Alabama  31   2/17/2019   \n",
       "2         Soda  ...  Non-frequent customer.  Female  Alabama  31   2/17/2019   \n",
       "3         Soda  ...  Non-frequent customer.  Female  Alabama  31   2/17/2019   \n",
       "4         Soda  ...  Non-frequent customer.  Female  Alabama  31   2/17/2019   \n",
       "5         Soda  ...  Non-frequent customer.  Female  Alabama  31   2/17/2019   \n",
       "6         Soda  ...  Non-frequent customer.  Female  Alabama  31   2/17/2019   \n",
       "7         Soda  ...  Non-frequent customer.  Female  Alabama  31   2/17/2019   \n",
       "8         Soda  ...  Non-frequent customer.  Female  Alabama  31   2/17/2019   \n",
       "9         Soda  ...  Non-frequent customer.  Female  Alabama  31   2/17/2019   \n",
       "\n",
       "  number_dependents marital_status  income region              Order_Flag  \n",
       "0                 3        married   40423  South  High-Activity-Customer  \n",
       "1                 3        married   40423  South  High-Activity-Customer  \n",
       "2                 3        married   40423  South  High-Activity-Customer  \n",
       "3                 3        married   40423  South  High-Activity-Customer  \n",
       "4                 3        married   40423  South  High-Activity-Customer  \n",
       "5                 3        married   40423  South  High-Activity-Customer  \n",
       "6                 3        married   40423  South  High-Activity-Customer  \n",
       "7                 3        married   40423  South  High-Activity-Customer  \n",
       "8                 3        married   40423  South  High-Activity-Customer  \n",
       "9                 3        married   40423  South  High-Activity-Customer  \n",
       "\n",
       "[10 rows x 31 columns]"
      ]
     },
     "execution_count": 22,
     "metadata": {},
     "output_type": "execute_result"
    }
   ],
   "source": [
    "#Validate the Exclusion Flag Logic in the dataset\n",
    "instacart_with_customers.head(10)"
   ]
  },
  {
   "cell_type": "code",
   "execution_count": 23,
   "id": "edf95402",
   "metadata": {},
   "outputs": [
    {
     "data": {
      "text/plain": [
       "High-Activity-Customer    30964564\n",
       "Low-Activity-Customer      1440295\n",
       "Name: Order_Flag, dtype: int64"
      ]
     },
     "execution_count": 23,
     "metadata": {},
     "output_type": "execute_result"
    }
   ],
   "source": [
    "# Checking the Frequency distribution of the Exclusion Flag\n",
    "instacart_with_customers['Order_Flag'].value_counts(dropna = False)"
   ]
  },
  {
   "cell_type": "code",
   "execution_count": null,
   "id": "30b04baf",
   "metadata": {},
   "outputs": [],
   "source": []
  },
  {
   "cell_type": "code",
   "execution_count": 2,
   "id": "3f929876",
   "metadata": {},
   "outputs": [],
   "source": [
    "# Now, lets exclude the low-activity customers from the dataset and create a dataset for the High Activity Customers\n",
    "instacart_high_customers = instacart_with_customers[instacart_with_customers['Order_Flag'] != 'Low-Activity-Customer']"
   ]
  },
  {
   "cell_type": "code",
   "execution_count": null,
   "id": "65b72364",
   "metadata": {},
   "outputs": [],
   "source": [
    "#Checking the high customers subset of the whole dataset\n",
    "instacart_high_customers.shape"
   ]
  },
  {
   "cell_type": "code",
   "execution_count": null,
   "id": "23b3a094",
   "metadata": {},
   "outputs": [],
   "source": [
    "instacart_with_customers.info()"
   ]
  },
  {
   "cell_type": "code",
   "execution_count": null,
   "id": "b5f243c3",
   "metadata": {},
   "outputs": [],
   "source": [
    "instacart_with_customers['order_day_of_week']=instacart_with_customers['order_day_of_week'].astype('int8')\n",
    "instacart_with_customers['order_hour_of_day']=instacart_with_customers['order_hour_of_day'].astype('int8')\n",
    "instacart_with_customers['reordered']=instacart_with_customers['reordered'].astype('int8')\n",
    "instacart_with_customers['max_order']=instacart_with_customers['max_order'].astype('int8')\n",
    "instacart_with_customers['order_number']=instacart_with_customers['order_number'].astype('int16')\n",
    "instacart_with_customers['age']=instacart_with_customers['age'].astype('int8')\n",
    "instacart_with_customers['days_since_last_order'] = instacart_with_customers['days_since_last_order'].astype('float16')\n",
    "instacart_with_customers['number_dependents']=instacart_with_customers['number_dependents'].astype('int8')\n"
   ]
  },
  {
   "cell_type": "markdown",
   "id": "d5936b5c",
   "metadata": {},
   "source": [
    "**Below is the Code to avoid the MemoryError in the Notebook**"
   ]
  },
  {
   "cell_type": "code",
   "execution_count": null,
   "id": "9deb4384",
   "metadata": {},
   "outputs": [],
   "source": [
    "instacart_high_customers['prices']=instacart_high_customers['prices'].astype('float16')\n",
    "#instacart_high_customers['average_price']=instacart_high_customers['average_price'].astype('float16')"
   ]
  },
  {
   "cell_type": "code",
   "execution_count": null,
   "id": "103a1eb6",
   "metadata": {},
   "outputs": [],
   "source": [
    "instacart_high_customers['order_day_of_week']=instacart_high_customers['order_day_of_week'].astype('int8')\n",
    "instacart_high_customers['order_hour_of_day']=instacart_high_customers['order_hour_of_day'].astype('int8')\n",
    "#instacart_with_customers['reordered']=instacart_with_customers['reordered'].astype('int8')\n",
    "instacart_high_customers['max_order']=instacart_high_customers['max_order'].astype('int8')\n",
    "instacart_high_customers['order_number']=instacart_high_customers['order_number'].astype('int16')\n",
    "instacart_high_customers['age']=instacart_high_customers['age'].astype('int8')"
   ]
  },
  {
   "cell_type": "code",
   "execution_count": null,
   "id": "f01d7f6c",
   "metadata": {},
   "outputs": [],
   "source": [
    "instacart_high_customers['days_since_last_order']=instacart_high_customers['days_since_last_order'].astype('float16')"
   ]
  },
  {
   "cell_type": "code",
   "execution_count": null,
   "id": "d7b3e4fa",
   "metadata": {},
   "outputs": [],
   "source": [
    "#instacart_high_customers['product_id'] =instacart_high_customers['product_id'].astype('int32')\n",
    "instacart_high_customers['reordered']=instacart_high_customers['reordered'].astype('int8')\n",
    "instacart_high_customers['aisle_id']=instacart_high_customers['aisle_id'].astype('int8')\n",
    "#ords_prods['order_id']=ords_prods['order_id'].astype('int32')\n",
    "#instacart_with_customers['order_id']=instacart_with_customers['order_id'].astype('int8')\n",
    "instacart_high_customers['add_to_cart_order']=instacart_high_customers['add_to_cart_order'].astype('int8')"
   ]
  },
  {
   "cell_type": "code",
   "execution_count": null,
   "id": "7a6e2354",
   "metadata": {},
   "outputs": [],
   "source": [
    "instacart_high_customers['department_id'] = instacart_high_customers['department_id'].astype('int8')"
   ]
  },
  {
   "cell_type": "code",
   "execution_count": null,
   "id": "346ec57b",
   "metadata": {},
   "outputs": [],
   "source": [
    "instacart_high_customers['number_dependents'] = instacart_high_customers['number_dependents'].astype('int8')"
   ]
  },
  {
   "cell_type": "code",
   "execution_count": null,
   "id": "8f36ed8c",
   "metadata": {},
   "outputs": [],
   "source": [
    "instacart_high_customers.info()"
   ]
  },
  {
   "cell_type": "raw",
   "id": "c1ab44c1",
   "metadata": {},
   "source": [
    "#Exporting the above sample dataset\n",
    "instacart_high_customers.to_pickle(os.path.join(path,'Data','Prepared Data', 'Instacart_High_Activity_customers.pkl'))"
   ]
  },
  {
   "cell_type": "markdown",
   "id": "93129369",
   "metadata": {},
   "source": [
    "### Question 5"
   ]
  },
  {
   "cell_type": "code",
   "execution_count": null,
   "id": "492b0af6",
   "metadata": {},
   "outputs": [],
   "source": [
    "instacart_with_customers.head()"
   ]
  },
  {
   "cell_type": "code",
   "execution_count": null,
   "id": "c5651be8",
   "metadata": {},
   "outputs": [],
   "source": []
  },
  {
   "cell_type": "code",
   "execution_count": null,
   "id": "dc55886e",
   "metadata": {},
   "outputs": [],
   "source": []
  },
  {
   "cell_type": "markdown",
   "id": "d3c5bcae",
   "metadata": {},
   "source": [
    "**Age Profile**"
   ]
  },
  {
   "cell_type": "code",
   "execution_count": null,
   "id": "a69bdec1",
   "metadata": {},
   "outputs": [],
   "source": [
    "# I will be profiling the people into 5 categories based on age in the dataset - Child(<10),Adolescent(10-17), Mid Age(18-34), Adult(35-64) and Old Age(>65)\n",
    "instacart_with_customers.loc[instacart_with_customers['age'] < 10, 'Age-Profile'] = 'Child'\n",
    "instacart_with_customers.loc[(instacart_with_customers['age'] >= 10) & (instacart_with_customers['age'] < 18) , 'Age-Profile'] = 'Adolescent'\n",
    "instacart_with_customers.loc[(instacart_with_customers['age'] >= 18) & (instacart_with_customers['age'] < 35) , 'Age-Profile'] = 'Mid Age'\n",
    "instacart_with_customers.loc[(instacart_with_customers['age'] >= 35) & (instacart_with_customers['age'] < 65) , 'Age-Profile'] = 'Adult'\n",
    "instacart_with_customers.loc[instacart_with_customers['age'] >= 65 , 'Age-Profile'] = 'Old Age'\n"
   ]
  },
  {
   "cell_type": "code",
   "execution_count": null,
   "id": "15af2385",
   "metadata": {},
   "outputs": [],
   "source": [
    "#Viewing the newly added age profile column\n",
    "instacart_with_customers.head()"
   ]
  },
  {
   "cell_type": "code",
   "execution_count": null,
   "id": "7616fac5",
   "metadata": {},
   "outputs": [],
   "source": [
    "# Viewing the frequency distribution of the age profile column\n",
    "instacart_with_customers['Age-Profile'].value_counts(dropna = False)"
   ]
  },
  {
   "cell_type": "code",
   "execution_count": null,
   "id": "53ea7b0e",
   "metadata": {},
   "outputs": [],
   "source": [
    "# Checking the dimension of the dataset\n",
    "instacart_with_customers.shape"
   ]
  },
  {
   "cell_type": "markdown",
   "id": "2daf8a8b",
   "metadata": {},
   "source": [
    "**Income Profiling**"
   ]
  },
  {
   "cell_type": "code",
   "execution_count": null,
   "id": "16681754",
   "metadata": {},
   "outputs": [],
   "source": [
    "#First, lets plot a histogram for viewing the distribution of the income variable\n",
    "income_histogram = instacart_with_customers['income'].plot.hist(bins = 60)"
   ]
  },
  {
   "cell_type": "markdown",
   "id": "25fa40b3",
   "metadata": {},
   "source": [
    "As we can see from the above histogram, majority of Incomes are less than 175K.I will be using 4 Income categories to profile the Income variable based on the above distribution. 1-75K -> Low Income, 75k-125k -> Middle Income, 125K-175K -> High-Income and Income > 175k as Very High Income."
   ]
  },
  {
   "cell_type": "code",
   "execution_count": null,
   "id": "3e24c779",
   "metadata": {},
   "outputs": [],
   "source": [
    "instacart_with_customers.loc[instacart_with_customers['income'] < 75000, 'Income-Profile'] = 'Low-Income'\n",
    "instacart_with_customers.loc[(instacart_with_customers['income'] >= 75000) & (instacart_with_customers['income'] < 125000), 'Income-Profile'] = 'Middle-Income'\n",
    "instacart_with_customers.loc[(instacart_with_customers['income'] >= 125000) & (instacart_with_customers['income'] < 175000), 'Income-Profile'] = 'High-Income'\n",
    "instacart_with_customers.loc[instacart_with_customers['income'] >= 175000, 'Income-Profile'] = 'Very-High-Income'"
   ]
  },
  {
   "cell_type": "code",
   "execution_count": null,
   "id": "648d6107",
   "metadata": {},
   "outputs": [],
   "source": [
    "#Validating the new column for Income Profiling\n",
    "instacart_with_customers.head()"
   ]
  },
  {
   "cell_type": "code",
   "execution_count": null,
   "id": "a996831d",
   "metadata": {},
   "outputs": [],
   "source": [
    "# Checking the Frequency distribution of the Income variable\n",
    "instacart_with_customers['Income-Profile'].value_counts(dropna = False)"
   ]
  },
  {
   "cell_type": "markdown",
   "id": "597b1972",
   "metadata": {},
   "source": [
    "**Vegetarian and Meat-Eating**"
   ]
  },
  {
   "cell_type": "code",
   "execution_count": null,
   "id": "27b8e8bb",
   "metadata": {},
   "outputs": [],
   "source": [
    "# I will use the department ids of 12 and 16 to categorize the customers within the dataset to Vegetarian and Meat Eating.\n",
    "# Will create a vegetarian_flag for the customers\n",
    "# First creating a crosstab of department_id and user_id\n",
    "veg_cross = pd.crosstab(instacart_with_customers['department_id'], instacart_with_customers['user_id'], dropna = False)"
   ]
  },
  {
   "cell_type": "code",
   "execution_count": null,
   "id": "85d322a7",
   "metadata": {},
   "outputs": [],
   "source": [
    "#Viewing the Cross Tab values\n",
    "veg_cross.head()"
   ]
  },
  {
   "cell_type": "code",
   "execution_count": null,
   "id": "19955fcc",
   "metadata": {},
   "outputs": [],
   "source": [
    "veg_map = dict()\n",
    "for user in veg_cross:\n",
    "    # This is done to create a list to get the userid for types\n",
    "    user_list = veg_cross[user].tolist()\n",
    "    if user_list[11] == 0 and user_list[15] == 0:\n",
    "        veg_map[user] = 'Vegetarian'\n",
    "    else:\n",
    "        veg_map[user] = 'Meat-Eating'"
   ]
  },
  {
   "cell_type": "code",
   "execution_count": null,
   "id": "60af2634",
   "metadata": {},
   "outputs": [],
   "source": [
    "#Now, lets update the flag to the users in the dataset based on the userid\n",
    "veg_list = []\n",
    "for user in instacart_with_customers['user_id']:\n",
    "    veg_list.append(veg_map[user])\n",
    "    \n",
    "instacart_with_customers['Veg-Flag'] = veg_list"
   ]
  },
  {
   "cell_type": "code",
   "execution_count": null,
   "id": "213b5f3c",
   "metadata": {},
   "outputs": [],
   "source": [
    "# Lets check the new flag in the dataset\n",
    "instacart_with_customers.head()"
   ]
  },
  {
   "cell_type": "code",
   "execution_count": null,
   "id": "9f047d56",
   "metadata": {},
   "outputs": [],
   "source": [
    "#Checking the Frequency distribution\n",
    "instacart_with_customers['Veg-Flag'].value_counts(dropna = False)"
   ]
  },
  {
   "cell_type": "markdown",
   "id": "6f51d871",
   "metadata": {},
   "source": [
    "**Marital Status and Number of Dependents**"
   ]
  },
  {
   "cell_type": "code",
   "execution_count": null,
   "id": "7bdef489",
   "metadata": {},
   "outputs": [],
   "source": [
    "#The columns used for this profiling are Marital status and the number of dependents "
   ]
  },
  {
   "cell_type": "code",
   "execution_count": null,
   "id": "54722fda",
   "metadata": {},
   "outputs": [],
   "source": [
    "instacart_with_customers['marital_status'].value_counts(dropna = False)"
   ]
  },
  {
   "cell_type": "code",
   "execution_count": null,
   "id": "4258eb4c",
   "metadata": {},
   "outputs": [],
   "source": [
    "#lets check the distribution of the number of dependents\n",
    "instacart_with_customers['number_dependents'].plot.hist(bins = 10)\n",
    "plt.title(\"Number of dependents\")"
   ]
  },
  {
   "cell_type": "code",
   "execution_count": null,
   "id": "2cdf215c",
   "metadata": {},
   "outputs": [],
   "source": [
    "#To get the frequency table of both the above factors, I am using crosstab\n",
    "fam_dep_crosstab = pd.crosstab(instacart_with_customers['marital_status'], instacart_with_customers['number_dependents'], dropna = False)"
   ]
  },
  {
   "cell_type": "code",
   "execution_count": null,
   "id": "13f82c4a",
   "metadata": {},
   "outputs": [],
   "source": [
    "#Viewing the Crosstab\n",
    "fam_dep_crosstab"
   ]
  },
  {
   "cell_type": "markdown",
   "id": "2681734f",
   "metadata": {},
   "source": [
    "The above table shows that Single and Divorced/Widowed people in the dataset does not have dependents and married people have dependents. We will have a flag which shows whether customers have dependents or not"
   ]
  },
  {
   "cell_type": "code",
   "execution_count": null,
   "id": "ad07ab6a",
   "metadata": {},
   "outputs": [],
   "source": [
    "#Dependent-Flag\n",
    "instacart_with_customers.loc[instacart_with_customers['number_dependents'] == 0, 'Dependent-Flag'] = 'No-dependents'\n",
    "instacart_with_customers.loc[instacart_with_customers['number_dependents'] >= 1, 'Dependent-Flag'] = 'With Dependents'"
   ]
  },
  {
   "cell_type": "code",
   "execution_count": null,
   "id": "7baed5a6",
   "metadata": {},
   "outputs": [],
   "source": [
    "#Checking the dependent flag\n",
    "instacart_with_customers.head()"
   ]
  },
  {
   "cell_type": "code",
   "execution_count": null,
   "id": "c29682d8",
   "metadata": {},
   "outputs": [],
   "source": [
    "# Checking the frequency distribution\n",
    "instacart_with_customers['Dependent-Flag'].value_counts(dropna = False)"
   ]
  },
  {
   "cell_type": "markdown",
   "id": "3bcd6014",
   "metadata": {},
   "source": [
    "**Marital Status and Dependents**"
   ]
  },
  {
   "cell_type": "code",
   "execution_count": null,
   "id": "46af647f",
   "metadata": {},
   "outputs": [],
   "source": [
    "# Family status flag\n",
    "instacart_with_customers.loc[(instacart_with_customers['marital_status'] == 'married') & (instacart_with_customers['number_dependents'] == 1), 'Family-Status'] = 'Married with no children'\n",
    "instacart_with_customers.loc[(instacart_with_customers['marital_status'] == 'married') & (instacart_with_customers['number_dependents'] > 1), 'Family-Status'] = 'Married with children'\n",
    "instacart_with_customers.loc[(instacart_with_customers['marital_status'] != 'married') & (instacart_with_customers['number_dependents'] == 0), 'Family-Status'] = 'Single with no children'\n",
    "instacart_with_customers.loc[(instacart_with_customers['marital_status'] != 'married') & (instacart_with_customers['number_dependents'] >= 1), 'Family-Status'] = 'Single with dependents'\n"
   ]
  },
  {
   "cell_type": "code",
   "execution_count": null,
   "id": "7dcf46e9",
   "metadata": {},
   "outputs": [],
   "source": [
    "#View the above flag\n",
    "instacart_with_customers.head()"
   ]
  },
  {
   "cell_type": "code",
   "execution_count": null,
   "id": "9e1398dc",
   "metadata": {},
   "outputs": [],
   "source": [
    "# Frequency distribution of the family status flag\n",
    "instacart_with_customers['Family-Status'].value_counts(dropna = False)"
   ]
  },
  {
   "cell_type": "code",
   "execution_count": null,
   "id": "f4fee88b",
   "metadata": {},
   "outputs": [],
   "source": [
    "instacart_with_customers.shape"
   ]
  },
  {
   "cell_type": "markdown",
   "id": "8838cb4b",
   "metadata": {},
   "source": [
    "**Shopping Habits by Age and Day of the week**"
   ]
  },
  {
   "cell_type": "markdown",
   "id": "f59d5401",
   "metadata": {},
   "source": [
    "We will now check the Shopping habits by the Age profile and orders by day of the week and calculate the frequency distribution"
   ]
  },
  {
   "cell_type": "code",
   "execution_count": null,
   "id": "8f106606",
   "metadata": {},
   "outputs": [],
   "source": [
    "# First lets check the distribution of the Age profile variable\n",
    "instacart_with_customers['Age-Profile'].value_counts(dropna = False)"
   ]
  },
  {
   "cell_type": "code",
   "execution_count": null,
   "id": "9b6a9c59",
   "metadata": {},
   "outputs": [],
   "source": [
    "# Now, lets perform a crosstab on two variables age profile and order_day_of_week\n",
    "shopping_habits_crosstab = pd.crosstab(instacart_with_customers['Age-Profile'], instacart_with_customers['order_day_of_week'], dropna = False)"
   ]
  },
  {
   "cell_type": "code",
   "execution_count": null,
   "id": "18157b03",
   "metadata": {},
   "outputs": [],
   "source": [
    "shopping_habits_crosstab"
   ]
  },
  {
   "cell_type": "code",
   "execution_count": null,
   "id": "45c41342",
   "metadata": {},
   "outputs": [],
   "source": [
    "# I will create a flag based on Weekday and Weekend Shopper based on the above age profiles\n",
    "instacart_with_customers.loc[(instacart_with_customers['Age-Profile'] == 'Adult') & (instacart_with_customers['order_day_of_week'] <= 1), 'Shopping-Habits-Profile'] = 'Weekend Adult Shopper'\n",
    "instacart_with_customers.loc[(instacart_with_customers['Age-Profile'] == 'Adult') & (instacart_with_customers['order_day_of_week'] > 1), 'Shopping-Habits-Profile'] = 'Weekday Adult Shopper'\n",
    "instacart_with_customers.loc[(instacart_with_customers['Age-Profile'] == 'Mid Age') & (instacart_with_customers['order_day_of_week'] <= 1), 'Shopping-Habits-Profile'] = 'Weekend Mid Age Shopper'\n",
    "instacart_with_customers.loc[(instacart_with_customers['Age-Profile'] == 'Mid Age') & (instacart_with_customers['order_day_of_week'] > 1), 'Shopping-Habits-Profile'] = 'Weekday Mid Age Shopper'\n",
    "instacart_with_customers.loc[(instacart_with_customers['Age-Profile'] == 'Old Age') & (instacart_with_customers['order_day_of_week'] <= 1), 'Shopping-Habits-Profile'] = 'Weekend Old Age Shopper'\n",
    "instacart_with_customers.loc[(instacart_with_customers['Age-Profile'] == 'Old Age') & (instacart_with_customers['order_day_of_week'] > 1), 'Shopping-Habits-Profile'] = 'Weekday Old Age Shopper'"
   ]
  },
  {
   "cell_type": "code",
   "execution_count": null,
   "id": "f3d68387",
   "metadata": {},
   "outputs": [],
   "source": [
    "#Checking the above flag\n",
    "instacart_with_customers.head()"
   ]
  },
  {
   "cell_type": "code",
   "execution_count": null,
   "id": "8f342fdd",
   "metadata": {},
   "outputs": [],
   "source": [
    "# Frequency Distribution of the Shopping Profiles\n",
    "instacart_with_customers['Shopping-Habits-Profile'].value_counts(dropna = False)"
   ]
  },
  {
   "cell_type": "markdown",
   "id": "d990030d",
   "metadata": {},
   "source": [
    "**Shopping Habits by Age and Hour of the Day**"
   ]
  },
  {
   "cell_type": "code",
   "execution_count": null,
   "id": "1c87d25d",
   "metadata": {},
   "outputs": [],
   "source": [
    "# First lets check the distribution of the Age profile variable\n",
    "instacart_with_customers['Age-Profile'].value_counts(dropna = False)"
   ]
  },
  {
   "cell_type": "code",
   "execution_count": null,
   "id": "f172dcd9",
   "metadata": {},
   "outputs": [],
   "source": [
    "# Now, lets perform a crosstab on two variables age profile and order_hour_of_day\n",
    "shopping_profile_crosstab = pd.crosstab(instacart_with_customers['Age-Profile'], instacart_with_customers['order_hour_of_day'],dropna = False)"
   ]
  },
  {
   "cell_type": "code",
   "execution_count": null,
   "id": "6d345a24",
   "metadata": {},
   "outputs": [],
   "source": [
    "pd.options.display.max_columns = 100"
   ]
  },
  {
   "cell_type": "code",
   "execution_count": null,
   "id": "dc6f7987",
   "metadata": {},
   "outputs": [],
   "source": [
    "#Viewing the above crosstab\n",
    "shopping_profile_crosstab"
   ]
  },
  {
   "cell_type": "code",
   "execution_count": null,
   "id": "bb4b5804",
   "metadata": {},
   "outputs": [],
   "source": [
    "# Will find the largest value and its columns for 3 Age-profiles\n",
    "shopping_profile_crosstab.max(axis = 1)\n"
   ]
  },
  {
   "cell_type": "code",
   "execution_count": null,
   "id": "e52e0e7a",
   "metadata": {},
   "outputs": [],
   "source": [
    "shopping_profile_crosstab.idxmax(axis =1)"
   ]
  },
  {
   "cell_type": "code",
   "execution_count": null,
   "id": "91c68537",
   "metadata": {},
   "outputs": [],
   "source": [
    "# As we can see that the most popular hour of the day where in orders are mostly placed, it is 10 AM. We need to make sure all the inventory\n",
    "# are in stock at that time during the day."
   ]
  },
  {
   "cell_type": "markdown",
   "id": "b7122a53",
   "metadata": {},
   "source": [
    "**Family Status and Orders of Day of week**"
   ]
  },
  {
   "cell_type": "code",
   "execution_count": null,
   "id": "aecdada6",
   "metadata": {},
   "outputs": [],
   "source": [
    "# First lets check the distribution of the Family profile variable\n",
    "instacart_with_customers['Family-Status'].value_counts(dropna = False)"
   ]
  },
  {
   "cell_type": "code",
   "execution_count": null,
   "id": "10301b7c",
   "metadata": {},
   "outputs": [],
   "source": [
    "family_order_crosstab = pd.crosstab(instacart_with_customers['Family-Status'], instacart_with_customers['order_day_of_week'],dropna = False)"
   ]
  },
  {
   "cell_type": "code",
   "execution_count": null,
   "id": "a9e77a63",
   "metadata": {},
   "outputs": [],
   "source": [
    "family_order_crosstab"
   ]
  },
  {
   "cell_type": "markdown",
   "id": "3a1c6e92",
   "metadata": {},
   "source": [
    "I will create a flag based on the above 4 Family status and with weekday and weekend shoppers"
   ]
  },
  {
   "cell_type": "code",
   "execution_count": null,
   "id": "d395d0d2",
   "metadata": {},
   "outputs": [],
   "source": [
    "instacart_with_customers.loc[(instacart_with_customers['Family-Status'] == 'Married with children') & (instacart_with_customers['order_day_of_week'] <= 1), 'Shopping-Family-Profile'] = 'Weekday Married with children Shopper'\n",
    "instacart_with_customers.loc[(instacart_with_customers['Family-Status'] == 'Married with children') & (instacart_with_customers['order_day_of_week'] > 1), 'Shopping-Family-Profile'] = 'Weekend Married with children Shopper'\n",
    "instacart_with_customers.loc[(instacart_with_customers['Family-Status'] == 'Married with no children') & (instacart_with_customers['order_day_of_week'] <= 1), 'Shopping-Family-Profile'] = 'Weekday Married with no children Shopper'\n",
    "instacart_with_customers.loc[(instacart_with_customers['Family-Status'] == 'Married with no children') & (instacart_with_customers['order_day_of_week'] > 1), 'Shopping-Family-Profile'] = 'Weekend Married with no children Shopper'\n",
    "instacart_with_customers.loc[(instacart_with_customers['Family-Status'] == 'Single with dependents') & (instacart_with_customers['order_day_of_week'] <= 1), 'Shopping-Family-Profile'] = 'Weekday Single with dependents Shopper'\n",
    "instacart_with_customers.loc[(instacart_with_customers['Family-Status'] == 'Single with dependents') & (instacart_with_customers['order_day_of_week'] > 1), 'Shopping-Family-Profile'] = 'Weekend Single with dependents Shopper'\n",
    "instacart_with_customers.loc[(instacart_with_customers['Family-Status'] == 'Single with no children') & (instacart_with_customers['order_day_of_week'] <= 1), 'Shopping-Family-Profile'] = 'Weekday Single with no children Shopper'\n",
    "instacart_with_customers.loc[(instacart_with_customers['Family-Status'] == 'Single with no children') & (instacart_with_customers['order_day_of_week'] > 1), 'Shopping-Family-Profile'] = 'Weekend Single with no children Shopper'"
   ]
  },
  {
   "cell_type": "code",
   "execution_count": null,
   "id": "679a5660",
   "metadata": {},
   "outputs": [],
   "source": [
    "#Checking the newly added flag\n",
    "instacart_with_customers.head()"
   ]
  },
  {
   "cell_type": "code",
   "execution_count": null,
   "id": "4d92e68c",
   "metadata": {},
   "outputs": [],
   "source": [
    "#Checking the Frequency distribution of the flag\n",
    "instacart_with_customers['Shopping-Family-Profile'].value_counts(dropna = False)"
   ]
  },
  {
   "cell_type": "code",
   "execution_count": null,
   "id": "f49fc46b",
   "metadata": {},
   "outputs": [],
   "source": []
  },
  {
   "cell_type": "markdown",
   "id": "ff6e752f",
   "metadata": {},
   "source": [
    "## Question 6"
   ]
  },
  {
   "cell_type": "markdown",
   "id": "1f225e64",
   "metadata": {},
   "source": [
    "**Visualization for Distribution of Profiles**"
   ]
  },
  {
   "cell_type": "markdown",
   "id": "ecca2691",
   "metadata": {},
   "source": [
    "**Age Profile**"
   ]
  },
  {
   "cell_type": "code",
   "execution_count": null,
   "id": "bcae6b37",
   "metadata": {},
   "outputs": [],
   "source": [
    "age_profile = instacart_with_customers['Age-Profile'].value_counts(dropna = False).plot.bar(color = ['green','blue','red'])\n",
    "plt.title('Age-Profile of customers')\n",
    "\n",
    "\n",
    "for container in age_profile.containers:\n",
    "    age_profile.bar_label(container,padding=2)"
   ]
  },
  {
   "cell_type": "code",
   "execution_count": null,
   "id": "df32c22f",
   "metadata": {},
   "outputs": [],
   "source": []
  },
  {
   "cell_type": "code",
   "execution_count": null,
   "id": "9bd40d1e",
   "metadata": {},
   "outputs": [],
   "source": []
  },
  {
   "cell_type": "code",
   "execution_count": null,
   "id": "b3220dfa",
   "metadata": {},
   "outputs": [],
   "source": [
    "#Saving the visualization to the folder \n",
    "age_profile.figure.savefig(os.path.join(path,'Analysis','Visualizations','Customers_Age-Profile.png'),bbox_inches='tight')"
   ]
  },
  {
   "cell_type": "markdown",
   "id": "c91c49ef",
   "metadata": {},
   "source": [
    "**Age-Profile with Labels using bar_label function of matplotlib**"
   ]
  },
  {
   "cell_type": "code",
   "execution_count": null,
   "id": "14322ab6",
   "metadata": {},
   "outputs": [],
   "source": [
    "df = pd.DataFrame({'Adult': 15202120, 'Mid Age': 8627655, 'Old Age': 8575084}, index=['Age Profile'])\n",
    "ax = df.plot.bar()\n",
    "\n",
    "for container in ax.containers:\n",
    "    ax.bar_label(container,fmt = '%2f',padding=1)"
   ]
  },
  {
   "cell_type": "markdown",
   "id": "ac17d000",
   "metadata": {},
   "source": [
    "**Income Profile**"
   ]
  },
  {
   "cell_type": "code",
   "execution_count": null,
   "id": "cd137034",
   "metadata": {},
   "outputs": [],
   "source": [
    "income_profile = instacart_with_customers['Income-Profile'].value_counts(dropna = False).plot.bar(color = ['red','blue','green','purple'])\n",
    "for container in income_profile.containers:\n",
    "    income_profile.bar_label(container,padding=1)\n",
    "    \n",
    "plt.title('Income Profile of Customers')\n",
    "plt.ylabel('Number of Customers')"
   ]
  },
  {
   "cell_type": "code",
   "execution_count": null,
   "id": "1cc70705",
   "metadata": {},
   "outputs": [],
   "source": [
    "#Saving the visualization within the local folder\n",
    "income_profile.figure.savefig(os.path.join(path,'Analysis','Visualizations','Income-Profile.png'),bbox_inches='tight')"
   ]
  },
  {
   "cell_type": "markdown",
   "id": "195aee4b",
   "metadata": {},
   "source": [
    "**Vegetarian Flag**"
   ]
  },
  {
   "cell_type": "code",
   "execution_count": null,
   "id": "14f930af",
   "metadata": {},
   "outputs": [],
   "source": [
    "veg_flag = instacart_with_customers['Veg-Flag'].value_counts(dropna = False).plot.bar()\n",
    "for container in veg_flag.containers:\n",
    "    veg_flag.bar_label(container,padding=1)"
   ]
  },
  {
   "cell_type": "code",
   "execution_count": null,
   "id": "03b2a5cd",
   "metadata": {},
   "outputs": [],
   "source": [
    "#Saving the visualization of the folder\n",
    "veg_flag.figure.savefig(os.path.join(path,'Analysis','Visualizations','Vegetarian_Flag.png'),bbox_inches='tight')"
   ]
  },
  {
   "cell_type": "markdown",
   "id": "4490d215",
   "metadata": {},
   "source": [
    "**Number of Dependents**"
   ]
  },
  {
   "cell_type": "code",
   "execution_count": null,
   "id": "57ea9d8d",
   "metadata": {},
   "outputs": [],
   "source": [
    "number_depend = instacart_with_customers['number_dependents'].plot.hist(bins = 10)\n",
    "plt.title(\"Number of dependents\")"
   ]
  },
  {
   "cell_type": "markdown",
   "id": "3398b2e7",
   "metadata": {},
   "source": [
    "**Family Status**"
   ]
  },
  {
   "cell_type": "code",
   "execution_count": null,
   "id": "19cd6cbe",
   "metadata": {},
   "outputs": [],
   "source": [
    "family_status = instacart_with_customers['Family-Status'].value_counts(dropna = False).plot.bar(color = ['red','blue','green','yellow'])\n",
    "for container in family_status.containers:\n",
    "    family_status.bar_label(container,padding=1)"
   ]
  },
  {
   "cell_type": "code",
   "execution_count": null,
   "id": "8b9aacde",
   "metadata": {},
   "outputs": [],
   "source": [
    "#Saving the visualization\n",
    "family_status.figure.savefig(os.path.join(path,'Analysis','Visualizations','Family_status.png'),bbox_inches='tight')"
   ]
  },
  {
   "cell_type": "markdown",
   "id": "fcfe4ec8",
   "metadata": {},
   "source": [
    "**Shopping Habits by Age and Day of the week**"
   ]
  },
  {
   "cell_type": "code",
   "execution_count": null,
   "id": "9f52d256",
   "metadata": {},
   "outputs": [],
   "source": [
    "shopping_profile = instacart_with_customers['Shopping-Habits-Profile'].value_counts(dropna = False).plot.bar()\n",
    "for container in shopping_profile.containers:\n",
    "    shopping_profile.bar_label(container,fmt = '%.2f',padding=2)\n",
    "plt.title('Ordering Habits by Age and Day of week')"
   ]
  },
  {
   "cell_type": "code",
   "execution_count": null,
   "id": "491bb9f5",
   "metadata": {},
   "outputs": [],
   "source": [
    "#Saving the visualization\n",
    "shopping_profile.figure.savefig(os.path.join(path,'Analysis','Visualizations','Shopping_Profile.png'),bbox_inches='tight')"
   ]
  },
  {
   "cell_type": "markdown",
   "id": "342fd346",
   "metadata": {},
   "source": [
    "**Family Status and Orders of Day of week**"
   ]
  },
  {
   "cell_type": "code",
   "execution_count": null,
   "id": "defb7cb7",
   "metadata": {},
   "outputs": [],
   "source": [
    "family_shop_profile = instacart_with_customers['Shopping-Family-Profile'].value_counts(dropna = False).plot.bar()\n",
    "for container in family_shop_profile.containers:\n",
    "    family_shop_profile.bar_label(container,fmt = '%i',padding=2)\n",
    "\n",
    "plt.title('Family Status and Orders - Day of week')\n",
    "plt.ylabel('Count of Customers')"
   ]
  },
  {
   "cell_type": "code",
   "execution_count": null,
   "id": "c420d0e3",
   "metadata": {},
   "outputs": [],
   "source": [
    "#Saving the visualization\n",
    "family_shop_profile.figure.savefig(os.path.join(path,'Analysis','Visualizations','Family_shop_Profile.png'),bbox_inches='tight')"
   ]
  },
  {
   "cell_type": "code",
   "execution_count": null,
   "id": "e8e0a2a5",
   "metadata": {},
   "outputs": [],
   "source": []
  },
  {
   "cell_type": "code",
   "execution_count": null,
   "id": "f90e455d",
   "metadata": {},
   "outputs": [],
   "source": []
  },
  {
   "cell_type": "markdown",
   "id": "580e8b3a",
   "metadata": {},
   "source": [
    "## Question 7"
   ]
  },
  {
   "cell_type": "markdown",
   "id": "303bdcda",
   "metadata": {},
   "source": [
    "**Aggregate the max, mean, and min variables on a customer-profile level for usage frequency and expenditure.**"
   ]
  },
  {
   "cell_type": "code",
   "execution_count": null,
   "id": "a40907d3",
   "metadata": {},
   "outputs": [],
   "source": [
    "instacart_with_customers.info()"
   ]
  },
  {
   "cell_type": "markdown",
   "id": "6df0ebde",
   "metadata": {},
   "source": [
    "**Age**"
   ]
  },
  {
   "cell_type": "code",
   "execution_count": null,
   "id": "d5601d13",
   "metadata": {},
   "outputs": [],
   "source": [
    "#Age Profile Aggregate functions"
   ]
  },
  {
   "cell_type": "code",
   "execution_count": null,
   "id": "8a569c85",
   "metadata": {},
   "outputs": [],
   "source": [
    "instacart_with_customers.groupby('Age-Profile').agg({'days_since_last_order': ['min','mean','max'],'prices': ['min','mean','max']})"
   ]
  },
  {
   "cell_type": "markdown",
   "id": "17b517ac",
   "metadata": {},
   "source": [
    "The Usage frequency and prices remain the same across all Age Profiles"
   ]
  },
  {
   "cell_type": "code",
   "execution_count": null,
   "id": "1935ecf0",
   "metadata": {},
   "outputs": [],
   "source": []
  },
  {
   "cell_type": "markdown",
   "id": "a3f35bc7",
   "metadata": {},
   "source": [
    "**Income**"
   ]
  },
  {
   "cell_type": "code",
   "execution_count": null,
   "id": "9f427bbf",
   "metadata": {},
   "outputs": [],
   "source": [
    "#Income Profile Aggregate Functions"
   ]
  },
  {
   "cell_type": "code",
   "execution_count": null,
   "id": "13e01f60",
   "metadata": {},
   "outputs": [],
   "source": [
    "instacart_with_customers.groupby('Income-Profile').agg({'days_since_last_order': ['min','mean','max'],'prices': ['min','mean','max']})"
   ]
  },
  {
   "cell_type": "markdown",
   "id": "4a126d3d",
   "metadata": {},
   "source": [
    "The Usage frequency is same for range of Low to High Income. However, customers having Very High Income order more frequently. The Prices remain the same across all the income profiles."
   ]
  },
  {
   "cell_type": "markdown",
   "id": "9d9aad0c",
   "metadata": {},
   "source": [
    "**Vegetarian Flag**"
   ]
  },
  {
   "cell_type": "code",
   "execution_count": null,
   "id": "6729778d",
   "metadata": {},
   "outputs": [],
   "source": [
    "#Aggregate functions based on the Vegetarian flag"
   ]
  },
  {
   "cell_type": "code",
   "execution_count": null,
   "id": "e5bf344d",
   "metadata": {},
   "outputs": [],
   "source": [
    "instacart_with_customers.groupby('Veg-Flag').agg({'days_since_last_order': ['min','mean','max'],'prices': ['min','mean','max']})"
   ]
  },
  {
   "cell_type": "markdown",
   "id": "f4fc0f5e",
   "metadata": {},
   "source": [
    "Meat Eating customers tend to shop more frequently than Vegetarian customers. The prices of the orders are also higher."
   ]
  },
  {
   "cell_type": "markdown",
   "id": "8d8e9978",
   "metadata": {},
   "source": [
    "**Family Status**"
   ]
  },
  {
   "cell_type": "code",
   "execution_count": null,
   "id": "e05ddd6f",
   "metadata": {},
   "outputs": [],
   "source": [
    "#Aggregate functions based on the Family status flag."
   ]
  },
  {
   "cell_type": "code",
   "execution_count": null,
   "id": "062e5e09",
   "metadata": {},
   "outputs": [],
   "source": [
    "instacart_with_customers.groupby('Family-Status').agg({'days_since_last_order': ['min','mean','max'],'prices': ['min','mean','max']})"
   ]
  },
  {
   "cell_type": "markdown",
   "id": "c7d73f57",
   "metadata": {},
   "source": [
    "There are no major differences in the usage frequency and prices across customers with different family status."
   ]
  },
  {
   "cell_type": "markdown",
   "id": "d4624acd",
   "metadata": {},
   "source": [
    "**Shopping Habits by Age and Day of the week**"
   ]
  },
  {
   "cell_type": "code",
   "execution_count": null,
   "id": "48c329a5",
   "metadata": {},
   "outputs": [],
   "source": [
    "#Aggregate functions based on the Shopping habits by the Customers based on the Age Profile and the day of the week of Orders"
   ]
  },
  {
   "cell_type": "code",
   "execution_count": null,
   "id": "d4019a94",
   "metadata": {},
   "outputs": [],
   "source": [
    "instacart_with_customers.groupby('Shopping-Habits-Profile').agg({'days_since_last_order': ['min','mean','max'],'prices': ['min','mean','max']})"
   ]
  },
  {
   "cell_type": "markdown",
   "id": "af0b599b",
   "metadata": {},
   "source": [
    "The order frequency is higher in weekdays than weekends. The prices frequency are almost the same"
   ]
  },
  {
   "cell_type": "markdown",
   "id": "052334b3",
   "metadata": {},
   "source": [
    "**Family Status and Orders of Day of week**"
   ]
  },
  {
   "cell_type": "code",
   "execution_count": null,
   "id": "fc4b6cc9",
   "metadata": {},
   "outputs": [],
   "source": [
    "instacart_with_customers.groupby('Shopping-Family-Profile').agg({'days_since_last_order': ['min','mean','max'],'prices': ['min','mean','max']})"
   ]
  },
  {
   "cell_type": "markdown",
   "id": "52867cca",
   "metadata": {},
   "source": [
    "The Order frequency is same across many sections of the family profile. Single with dependents shoppers shop more frquently in the weekends."
   ]
  },
  {
   "cell_type": "markdown",
   "id": "17b70502",
   "metadata": {},
   "source": [
    "### Question 8"
   ]
  },
  {
   "cell_type": "markdown",
   "id": "d6e44662",
   "metadata": {},
   "source": [
    "**Compare your customer profiles with regions and departments. Can you identify a link between them?**"
   ]
  },
  {
   "cell_type": "code",
   "execution_count": null,
   "id": "42bb2433",
   "metadata": {},
   "outputs": [],
   "source": [
    "# I will perform the crosstab for the following variables with Region.\n"
   ]
  },
  {
   "cell_type": "markdown",
   "id": "91f0c71c",
   "metadata": {},
   "source": [
    "**Age**"
   ]
  },
  {
   "cell_type": "code",
   "execution_count": null,
   "id": "fbcb41c2",
   "metadata": {},
   "outputs": [],
   "source": [
    "age_region_crosstab = pd.crosstab(instacart_with_customers['Age-Profile'], instacart_with_customers['region'],dropna = False,normalize = 'columns')"
   ]
  },
  {
   "cell_type": "code",
   "execution_count": null,
   "id": "1d08b88b",
   "metadata": {},
   "outputs": [],
   "source": [
    "#Checking the crosstab\n",
    "age_region_crosstab"
   ]
  },
  {
   "cell_type": "code",
   "execution_count": null,
   "id": "3b7e861a",
   "metadata": {},
   "outputs": [],
   "source": [
    "# The Age Profiles are the same across all regions."
   ]
  },
  {
   "cell_type": "markdown",
   "id": "c1ea5e04",
   "metadata": {},
   "source": [
    "**Income**"
   ]
  },
  {
   "cell_type": "code",
   "execution_count": null,
   "id": "9bb473fd",
   "metadata": {},
   "outputs": [],
   "source": [
    "income_region_crosstab = pd.crosstab(instacart_with_customers['Income-Profile'], instacart_with_customers['region'],dropna = False,normalize = 'columns')"
   ]
  },
  {
   "cell_type": "code",
   "execution_count": null,
   "id": "b6fd3051",
   "metadata": {},
   "outputs": [],
   "source": [
    "income_region_crosstab"
   ]
  },
  {
   "cell_type": "code",
   "execution_count": null,
   "id": "a30f5bce",
   "metadata": {},
   "outputs": [],
   "source": [
    "# The Income profiles are almost similar for all the Regions"
   ]
  },
  {
   "cell_type": "markdown",
   "id": "8f9d00c1",
   "metadata": {},
   "source": [
    "**Vegetarian Flag**"
   ]
  },
  {
   "cell_type": "code",
   "execution_count": null,
   "id": "9f677db9",
   "metadata": {},
   "outputs": [],
   "source": [
    "veg_region_crosstab = pd.crosstab(instacart_with_customers['Veg-Flag'], instacart_with_customers['region'],dropna = False,normalize = 'columns')"
   ]
  },
  {
   "cell_type": "code",
   "execution_count": null,
   "id": "bea7a810",
   "metadata": {},
   "outputs": [],
   "source": [
    "veg_region_crosstab"
   ]
  },
  {
   "cell_type": "code",
   "execution_count": null,
   "id": "a68a3ba8",
   "metadata": {},
   "outputs": [],
   "source": [
    "#The Diet Style among customers are same across the regions."
   ]
  },
  {
   "cell_type": "markdown",
   "id": "e8d4737c",
   "metadata": {},
   "source": [
    "**Family Status**"
   ]
  },
  {
   "cell_type": "code",
   "execution_count": null,
   "id": "bf4be248",
   "metadata": {},
   "outputs": [],
   "source": [
    "family_stats_region_crosstab = pd.crosstab(instacart_with_customers['Family-Status'], instacart_with_customers['region'],dropna = False,normalize = 'columns')"
   ]
  },
  {
   "cell_type": "code",
   "execution_count": null,
   "id": "8b0e8881",
   "metadata": {},
   "outputs": [],
   "source": [
    "family_stats_region_crosstab"
   ]
  },
  {
   "cell_type": "code",
   "execution_count": null,
   "id": "60c17ea6",
   "metadata": {},
   "outputs": [],
   "source": [
    "# The family status profiles among shoppers are same across all regions."
   ]
  },
  {
   "cell_type": "markdown",
   "id": "a8cec9ea",
   "metadata": {},
   "source": [
    "**Shopping Habits by Age and Day of the week**"
   ]
  },
  {
   "cell_type": "code",
   "execution_count": null,
   "id": "f26e4c94",
   "metadata": {},
   "outputs": [],
   "source": [
    "shopping_habits_region_crosstab = pd.crosstab(instacart_with_customers['Shopping-Habits-Profile'], instacart_with_customers['region'],dropna = False,normalize = 'columns')"
   ]
  },
  {
   "cell_type": "code",
   "execution_count": null,
   "id": "e581ed82",
   "metadata": {},
   "outputs": [],
   "source": [
    "shopping_habits_region_crosstab"
   ]
  },
  {
   "cell_type": "code",
   "execution_count": null,
   "id": "344ee372",
   "metadata": {},
   "outputs": [],
   "source": [
    "# The shopping habits among different category of Ages are same across all the Regions."
   ]
  },
  {
   "cell_type": "markdown",
   "id": "9cd70354",
   "metadata": {},
   "source": [
    "**Family Shopping Status and Orders of Day of week**"
   ]
  },
  {
   "cell_type": "code",
   "execution_count": null,
   "id": "517c7624",
   "metadata": {},
   "outputs": [],
   "source": [
    "family_shopping_region_crosstab = pd.crosstab(instacart_with_customers['Shopping-Family-Profile'], instacart_with_customers['region'],dropna = False,normalize = 'columns')"
   ]
  },
  {
   "cell_type": "code",
   "execution_count": null,
   "id": "e134b082",
   "metadata": {},
   "outputs": [],
   "source": [
    "family_shopping_region_crosstab"
   ]
  },
  {
   "cell_type": "code",
   "execution_count": null,
   "id": "7fd36c1b",
   "metadata": {},
   "outputs": [],
   "source": [
    "# The rates seem to be same across regions for all family shopping profile."
   ]
  },
  {
   "cell_type": "markdown",
   "id": "412e0a3b-d860-4c2e-bb1e-f9790c9609e0",
   "metadata": {},
   "source": [
    "**Ordering Habits by Customer Loyalty**"
   ]
  },
  {
   "cell_type": "code",
   "execution_count": null,
   "id": "db05d13f-03c8-4ae1-935a-0616f9a6a477",
   "metadata": {},
   "outputs": [],
   "source": [
    "habits_loyalty_crosstab = pd.crosstab(instacart_with_customers['loyalty_flag'], instacart_with_customers['spending_flag'],dropna = False,normalize = 'columns')"
   ]
  },
  {
   "cell_type": "code",
   "execution_count": null,
   "id": "024d1463-a582-4e04-ae30-0a31caebd174",
   "metadata": {},
   "outputs": [],
   "source": [
    "habits_loyalty_crosstab"
   ]
  },
  {
   "cell_type": "code",
   "execution_count": null,
   "id": "6dcd779d-ba4d-4a09-a7ad-9dcd4c103bb4",
   "metadata": {},
   "outputs": [],
   "source": [
    "a = habits_loyalty_crosstab.plot(kind = 'bar')\n",
    "\n",
    "for container in a.containers:\n",
    "    a.bar_label(container,fmt = '%.2f',padding=2)\n",
    "a.legend(bbox_to_anchor=(1, 1.02))\n",
    "plt.title('Spending Habits based on Loyalty')"
   ]
  },
  {
   "cell_type": "code",
   "execution_count": null,
   "id": "d10d85a1",
   "metadata": {},
   "outputs": [],
   "source": [
    "ordering_region =pd.crosstab(instacart_with_customers['order_frequency_flag'], instacart_with_customers['region'],dropna = False,normalize = 'index')"
   ]
  },
  {
   "cell_type": "code",
   "execution_count": null,
   "id": "63252a46",
   "metadata": {},
   "outputs": [],
   "source": [
    "ordering_region"
   ]
  },
  {
   "cell_type": "code",
   "execution_count": null,
   "id": "37caa30d",
   "metadata": {},
   "outputs": [],
   "source": [
    "b = ordering_region.plot(kind = 'bar')\n",
    "\n",
    "b.legend(bbox_to_anchor=(1.3, 1.04))\n",
    "plt.title('Ordering Habits based on Region')"
   ]
  },
  {
   "cell_type": "code",
   "execution_count": null,
   "id": "67530c8f",
   "metadata": {},
   "outputs": [],
   "source": [
    "#Saving the Visualizations\n",
    "b.figure.savefig(os.path.join(path,'Analysis','Visualizations','Order_Region.png'),bbox_inches='tight')"
   ]
  },
  {
   "cell_type": "code",
   "execution_count": null,
   "id": "e38a1e45-9e1e-48d9-9a0c-aee41172efdc",
   "metadata": {},
   "outputs": [],
   "source": [
    "#Saving the Visualizations\n",
    "a.figure.savefig(os.path.join(path,'Analysis','Visualizations','Spending_Loyalty.png'),bbox_inches='tight')"
   ]
  },
  {
   "cell_type": "markdown",
   "id": "0a4f6f33",
   "metadata": {},
   "source": [
    "**Ordering Habits based on Age and family Status**"
   ]
  },
  {
   "cell_type": "code",
   "execution_count": null,
   "id": "f5aabfe5",
   "metadata": {},
   "outputs": [],
   "source": [
    "a = pd.crosstab(instacart_with_customers['Age-Profile'],instacart_with_customers['order_frequency_flag'],dropna = False,normalize = 'index')"
   ]
  },
  {
   "cell_type": "code",
   "execution_count": null,
   "id": "0df2b021",
   "metadata": {},
   "outputs": [],
   "source": [
    "a"
   ]
  },
  {
   "cell_type": "code",
   "execution_count": null,
   "id": "08504a7e",
   "metadata": {},
   "outputs": [],
   "source": [
    "var1 = a.plot(kind = 'bar', linewidth = 2)\n",
    "\n",
    "for container in var1.containers:\n",
    "    var1.bar_label(container,fmt = '%.2f%%',padding=2)\n",
    "var1.legend(bbox_to_anchor=(1, 1.02))\n",
    "plt.title('Ordering Habits based on Age')\n",
    "plt.ylabel('Ordering Frequency in terms of %')"
   ]
  },
  {
   "cell_type": "code",
   "execution_count": null,
   "id": "38204c64",
   "metadata": {},
   "outputs": [],
   "source": [
    "#Saving the Visualizations\n",
    "var1.figure.savefig(os.path.join(path,'Analysis','Visualizations','Order_Age.png'),bbox_inches='tight')"
   ]
  },
  {
   "cell_type": "code",
   "execution_count": null,
   "id": "560de5a5",
   "metadata": {},
   "outputs": [],
   "source": [
    "family_orders = pd.crosstab(instacart_with_customers['Family-Status'],instacart_with_customers['order_frequency_flag'],dropna = False,normalize = 'index')"
   ]
  },
  {
   "cell_type": "code",
   "execution_count": null,
   "id": "f9aee16a",
   "metadata": {},
   "outputs": [],
   "source": [
    "family_orders"
   ]
  },
  {
   "cell_type": "code",
   "execution_count": null,
   "id": "4257ea37",
   "metadata": {},
   "outputs": [],
   "source": [
    "var2 = family_orders.plot(kind = 'bar', linewidth = 2)\n",
    "\n",
    "for container in var1.containers:\n",
    "    var2.bar_label(container,fmt = '%.2f%%',padding=2)\n",
    "var2.legend(bbox_to_anchor=(1, 1.02))\n",
    "plt.title('Ordering Habits based on Family Status')\n",
    "plt.ylabel('Ordering Frequency in terms of %')"
   ]
  },
  {
   "cell_type": "code",
   "execution_count": null,
   "id": "12c15a88",
   "metadata": {},
   "outputs": [],
   "source": [
    "#Saving the Visualizations\n",
    "var2.figure.savefig(os.path.join(path,'Analysis','Visualizations','Order_Family_Status.png'),bbox_inches='tight')"
   ]
  },
  {
   "cell_type": "code",
   "execution_count": null,
   "id": "6bf6d3d3",
   "metadata": {},
   "outputs": [],
   "source": []
  },
  {
   "cell_type": "markdown",
   "id": "317c34f1",
   "metadata": {},
   "source": [
    "**Orders By Week and Region**"
   ]
  },
  {
   "cell_type": "code",
   "execution_count": null,
   "id": "81b4e38d",
   "metadata": {},
   "outputs": [],
   "source": [
    "region_orders = pd.crosstab(instacart_with_customers['order_day_of_week'],instacart_with_customers['region'],dropna = False,normalize = 'index')"
   ]
  },
  {
   "cell_type": "code",
   "execution_count": null,
   "id": "d591098b",
   "metadata": {},
   "outputs": [],
   "source": [
    "region_orders"
   ]
  },
  {
   "cell_type": "code",
   "execution_count": null,
   "id": "0f16454b",
   "metadata": {},
   "outputs": [],
   "source": [
    "var22 = region_orders.plot(kind = 'bar', linewidth = 2)\n",
    "\n",
    "for container in var22.containers:\n",
    "    var22.bar_label(container,fmt = '%.2f%%',padding=2)\n",
    "var22.legend(bbox_to_anchor=(1, 1.02))\n",
    "plt.title('Ordering Habits based on Region')\n",
    "plt.ylabel('Ordering Frequency in terms of %')"
   ]
  },
  {
   "cell_type": "code",
   "execution_count": null,
   "id": "ba91fd9b",
   "metadata": {},
   "outputs": [],
   "source": [
    "#Saving the Visualizations\n",
    "var22.figure.savefig(os.path.join(path,'Analysis','Visualizations','Region_Orders.png'),bbox_inches='tight')"
   ]
  },
  {
   "cell_type": "markdown",
   "id": "1fe070e1",
   "metadata": {},
   "source": [
    "**Orders per hours by Day of the week**"
   ]
  },
  {
   "cell_type": "code",
   "execution_count": null,
   "id": "5edf819f",
   "metadata": {},
   "outputs": [],
   "source": [
    "hour_orders = pd.crosstab(instacart_with_customers['order_day_of_week'],instacart_with_customers['order_hour_of_day'],dropna = False,normalize = 'index')"
   ]
  },
  {
   "cell_type": "code",
   "execution_count": null,
   "id": "598abf5d",
   "metadata": {},
   "outputs": [],
   "source": [
    "hour_orders"
   ]
  },
  {
   "cell_type": "code",
   "execution_count": null,
   "id": "7eb4a54a",
   "metadata": {},
   "outputs": [],
   "source": [
    "ax = plt.axes()\n",
    "hour_week = sns.heatmap(hour_orders, cmap=\"Reds\", linewidth=0.50, xticklabels=True, yticklabels=True,ax = ax)\n",
    "ax.set_title('Heatmap of Orders')"
   ]
  },
  {
   "cell_type": "code",
   "execution_count": null,
   "id": "7547f9e5",
   "metadata": {},
   "outputs": [],
   "source": [
    "hour_week.figure.savefig(os.path.join(path,'Analysis','Visualizations','Orders by day and week.png'),bbox_inches='tight')"
   ]
  },
  {
   "cell_type": "markdown",
   "id": "e5a82ec3",
   "metadata": {},
   "source": [
    "**Customer Profile By Departments**"
   ]
  },
  {
   "cell_type": "markdown",
   "id": "5d498a3f",
   "metadata": {},
   "source": [
    "##### I will perform the crosstab for the following variables with Departments. Here are the Department Ids and value from the Excel sheet.\n",
    "\n",
    "Ids\tdepartment <br>\n",
    "1\tfrozen <br>\n",
    "2\tother<br>\n",
    "3\tbakery<br>\n",
    "4\tproduce<br>\n",
    "5\talcohol<br>\n",
    "6\tinternational<br>\n",
    "7\tbeverages<br>\n",
    "8\tpets<br>\n",
    "9\tdry goods pasta<br>\n",
    "10\tbulk<br>\n",
    "11\tpersonal care<br>\n",
    "12\tmeat seafood<br>\n",
    "13\tpantry<br>\n",
    "14\tbreakfast<br>\n",
    "15\tcanned goods<br>\n",
    "16\tdairy eggs<br>\n",
    "17\thousehold<br>\n",
    "18\tbabies<br>\n",
    "19\tsnacks<br>\n",
    "20\tdeli<br>\n",
    "21\tmissing<br>\n"
   ]
  },
  {
   "cell_type": "markdown",
   "id": "ae2d7bc3",
   "metadata": {},
   "source": [
    "**Age**"
   ]
  },
  {
   "cell_type": "code",
   "execution_count": null,
   "id": "3604f69f",
   "metadata": {},
   "outputs": [],
   "source": [
    "age_department_crosstab = pd.crosstab(instacart_with_customers['Age-Profile'], instacart_with_customers['department_id'],dropna = False,normalize = 'index')"
   ]
  },
  {
   "cell_type": "code",
   "execution_count": null,
   "id": "f133c48b",
   "metadata": {},
   "outputs": [],
   "source": [
    "pd.options.display.max_columns = 100"
   ]
  },
  {
   "cell_type": "code",
   "execution_count": null,
   "id": "8800d806",
   "metadata": {},
   "outputs": [],
   "source": [
    "#Printing the crosstab of age\n",
    "age_department_crosstab"
   ]
  },
  {
   "cell_type": "code",
   "execution_count": null,
   "id": "75ffcb08",
   "metadata": {},
   "outputs": [],
   "source": [
    "# Analysis of the Age Profile with departments are similar rates for all departments"
   ]
  },
  {
   "cell_type": "markdown",
   "id": "74bb2c12",
   "metadata": {},
   "source": [
    "**Income Profile**"
   ]
  },
  {
   "cell_type": "code",
   "execution_count": null,
   "id": "cdf8afb7",
   "metadata": {},
   "outputs": [],
   "source": [
    "income_department_crosstab = pd.crosstab(instacart_with_customers['Income-Profile'], instacart_with_customers['department_id'],dropna = False,normalize = 'index')"
   ]
  },
  {
   "cell_type": "code",
   "execution_count": null,
   "id": "a659d07d",
   "metadata": {},
   "outputs": [],
   "source": [
    "income_department_crosstab"
   ]
  },
  {
   "cell_type": "code",
   "execution_count": null,
   "id": "c3ff62df",
   "metadata": {},
   "outputs": [],
   "source": [
    "# Some of the Analysis from the above crosstab are:\n",
    "# 1) Spending among departments are of similar percentages for High-income customers.\n",
    "# 2) Low-income customers spend more in departments 7(beverages), 10(bulk) and 19(snacks). This is expected, since people with low income prefer\n",
    "# ordering items in bulk and help in savings. \n",
    "# 3) Middle-income customers form most of the percentages of orders across departments.\n",
    "# 4) Very-high_income customers has highest percentage of orders in department 8 (pets). This forms a trend that Rich people having pets\n",
    "# orders more within the Pets department."
   ]
  },
  {
   "cell_type": "markdown",
   "id": "198b8641",
   "metadata": {},
   "source": [
    "**Vegetarian Flag**"
   ]
  },
  {
   "cell_type": "code",
   "execution_count": null,
   "id": "c6c333fa",
   "metadata": {},
   "outputs": [],
   "source": [
    "veg_department_crosstab = pd.crosstab(instacart_with_customers['Veg-Flag'], instacart_with_customers['department_id'],dropna = False,normalize = 'index')"
   ]
  },
  {
   "cell_type": "code",
   "execution_count": null,
   "id": "039a8425",
   "metadata": {},
   "outputs": [],
   "source": [
    "veg_department_crosstab"
   ]
  },
  {
   "cell_type": "code",
   "execution_count": null,
   "id": "2e5b305a",
   "metadata": {},
   "outputs": [],
   "source": [
    "# As we can see, the data set include lot of meat-eating customers for Instacart."
   ]
  },
  {
   "cell_type": "markdown",
   "id": "6007b0c9",
   "metadata": {},
   "source": [
    "**Family Status**"
   ]
  },
  {
   "cell_type": "code",
   "execution_count": null,
   "id": "0a6279fc",
   "metadata": {},
   "outputs": [],
   "source": [
    "family_stats_department_crosstab = pd.crosstab(instacart_with_customers['Family-Status'], instacart_with_customers['department_id'],dropna = False,normalize = 'index')"
   ]
  },
  {
   "cell_type": "code",
   "execution_count": null,
   "id": "df6f7dad",
   "metadata": {},
   "outputs": [],
   "source": [
    "family_stats_department_crosstab"
   ]
  },
  {
   "cell_type": "code",
   "execution_count": null,
   "id": "02784657",
   "metadata": {},
   "outputs": [],
   "source": [
    "# The Analysis for the Family status is as follows:\n",
    "# 1) Married With Children shoopers orders constitute most percentage of orders with most departments as this sector forms major customer base.\n",
    "# 2) Single people spend more on orders from Department 2(Other), 5(Alcohol) and 8(Pets)"
   ]
  },
  {
   "cell_type": "markdown",
   "id": "0fce41ec",
   "metadata": {},
   "source": [
    "**Shopping Habits by Age and Day of the week**"
   ]
  },
  {
   "cell_type": "code",
   "execution_count": null,
   "id": "2ba9acc5",
   "metadata": {},
   "outputs": [],
   "source": [
    "shopping_habits_department_crosstab = pd.crosstab(instacart_with_customers['Shopping-Habits-Profile'], instacart_with_customers['department_id'],dropna = False,normalize = 'index')"
   ]
  },
  {
   "cell_type": "code",
   "execution_count": null,
   "id": "920c45f6",
   "metadata": {},
   "outputs": [],
   "source": [
    "shopping_habits_department_crosstab"
   ]
  },
  {
   "cell_type": "code",
   "execution_count": null,
   "id": "cc7dee8b",
   "metadata": {},
   "outputs": [],
   "source": [
    "#The pattern of distirbution of orders across departments seem to be of similar percentages.\n",
    "# Weekend Adult Shoppers prefer ordering from department 15(Canned Goods) and 4(Produce).\n",
    "# Weekday Old Age Shoppers prefer 4(Produce)."
   ]
  },
  {
   "cell_type": "markdown",
   "id": "5df8fcbd",
   "metadata": {},
   "source": [
    "**Family Shopping Status and Orders of Day of week**"
   ]
  },
  {
   "cell_type": "code",
   "execution_count": null,
   "id": "42d48888",
   "metadata": {},
   "outputs": [],
   "source": [
    "family_shopping_department_crosstab = pd.crosstab(instacart_with_customers['Shopping-Family-Profile'], instacart_with_customers['department_id'],dropna = False,normalize = 'index')"
   ]
  },
  {
   "cell_type": "code",
   "execution_count": null,
   "id": "35fe4797",
   "metadata": {},
   "outputs": [],
   "source": [
    "family_shopping_department_crosstab"
   ]
  },
  {
   "cell_type": "code",
   "execution_count": null,
   "id": "d12301dc",
   "metadata": {},
   "outputs": [],
   "source": [
    "family_shopping_department_crosstab.max(axis = 1)"
   ]
  },
  {
   "cell_type": "code",
   "execution_count": null,
   "id": "06d21537",
   "metadata": {},
   "outputs": [],
   "source": [
    "#Analysis of the above family shopping pattern by departments.\n",
    "# 1) Weekday shoppers prefer ordering from department 12(Meat), 4(Produce) and 2(Other)\n",
    "# 2) Weekend Shoppers prefer ordering from department 4(Alcohol). Most people order alcohol for social occasions over the weekend."
   ]
  },
  {
   "cell_type": "markdown",
   "id": "ee192f11",
   "metadata": {},
   "source": [
    "## Question 9"
   ]
  },
  {
   "cell_type": "markdown",
   "id": "86b8c80c",
   "metadata": {},
   "source": [
    "**Produce suitable charts to illustrate your results and export them in your project folder.**"
   ]
  },
  {
   "cell_type": "markdown",
   "id": "2c4258a8",
   "metadata": {},
   "source": [
    "**Regions**"
   ]
  },
  {
   "cell_type": "markdown",
   "id": "1d4b83d2",
   "metadata": {},
   "source": [
    "**Number of Customers by Region**"
   ]
  },
  {
   "cell_type": "code",
   "execution_count": null,
   "id": "960c6f97",
   "metadata": {},
   "outputs": [],
   "source": [
    "Region_customers = instacart_with_customers['region'].value_counts().plot.pie(autopct = '%1.1f%%')\n",
    "plt.title('Percentage of Customers by Region')"
   ]
  },
  {
   "cell_type": "code",
   "execution_count": null,
   "id": "bf04319a",
   "metadata": {},
   "outputs": [],
   "source": [
    "#Saving the visualization\n",
    "Region_customers.figure.savefig(os.path.join(path,'Analysis','Visualizations','Region_customers.png'))"
   ]
  },
  {
   "cell_type": "code",
   "execution_count": null,
   "id": "2d5a66f8",
   "metadata": {},
   "outputs": [],
   "source": []
  },
  {
   "cell_type": "code",
   "execution_count": null,
   "id": "d598e498",
   "metadata": {},
   "outputs": [],
   "source": []
  },
  {
   "cell_type": "markdown",
   "id": "9a01cd09",
   "metadata": {},
   "source": [
    "**Age**"
   ]
  },
  {
   "cell_type": "code",
   "execution_count": null,
   "id": "45c4b55a",
   "metadata": {},
   "outputs": [],
   "source": [
    "Age_region_bar = age_region_crosstab.plot.bar()\n",
    "plt.title('Age Profile By Regions')\n",
    "plt.ylabel('Number of Customers normalized by Columns')"
   ]
  },
  {
   "cell_type": "code",
   "execution_count": null,
   "id": "2f0ce2dd",
   "metadata": {},
   "outputs": [],
   "source": [
    "#Saving the visualization\n",
    "Age_region_bar.figure.savefig(os.path.join(path,'Analysis','Visualizations','Age_Region.png'),bbox_inches='tight')"
   ]
  },
  {
   "cell_type": "markdown",
   "id": "2f1ee162",
   "metadata": {},
   "source": [
    "**Income**"
   ]
  },
  {
   "cell_type": "code",
   "execution_count": null,
   "id": "04854104",
   "metadata": {},
   "outputs": [],
   "source": [
    "Income_region_bar = income_region_crosstab.plot.bar()\n",
    "plt.title('Income Profile By Regions')\n",
    "plt.ylabel('Number of Customers normalized by Columns')"
   ]
  },
  {
   "cell_type": "code",
   "execution_count": null,
   "id": "e846b8c8",
   "metadata": {},
   "outputs": [],
   "source": []
  },
  {
   "cell_type": "code",
   "execution_count": null,
   "id": "590cbeb5",
   "metadata": {},
   "outputs": [],
   "source": [
    "#Saving the visualization\n",
    "Income_region_bar.figure.savefig(os.path.join(path,'Analysis','Visualizations','Income_Region.png'),bbox_inches='tight')"
   ]
  },
  {
   "cell_type": "markdown",
   "id": "335eff90",
   "metadata": {},
   "source": [
    "**Vegetarian flag**"
   ]
  },
  {
   "cell_type": "code",
   "execution_count": null,
   "id": "7eef5648",
   "metadata": {},
   "outputs": [],
   "source": [
    "Veg_bar = veg_region_crosstab.plot.bar()\n",
    "plt.title('Diet Profile By Regions')\n",
    "plt.ylabel('Number of Customers normalized by Columns')"
   ]
  },
  {
   "cell_type": "code",
   "execution_count": null,
   "id": "2e499a7f",
   "metadata": {},
   "outputs": [],
   "source": [
    "#Saving the Visualization\n",
    "Veg_bar.figure.savefig(os.path.join(path,'Analysis','Visualizations','Veg_Flag.png'),bbox_inches='tight')"
   ]
  },
  {
   "cell_type": "markdown",
   "id": "ce73b9d4",
   "metadata": {},
   "source": [
    "**Shopping Habits by Age and Day of week**"
   ]
  },
  {
   "cell_type": "code",
   "execution_count": null,
   "id": "fb89b935",
   "metadata": {},
   "outputs": [],
   "source": [
    "Shopping_Region_bar = shopping_habits_region_crosstab.plot.bar()\n",
    "plt.title('Shopping Profile By Regions')\n",
    "plt.ylabel('Number of Customers normalized by Columns')"
   ]
  },
  {
   "cell_type": "code",
   "execution_count": null,
   "id": "0ab31592",
   "metadata": {},
   "outputs": [],
   "source": [
    "Shopping_Region_bar.figure.savefig(os.path.join(path,'Analysis','Visualizations','Shopping_Region_bar.png'),bbox_inches='tight')"
   ]
  },
  {
   "cell_type": "markdown",
   "id": "92fef966",
   "metadata": {},
   "source": [
    "**Family Shopping Status and Order by Day of Week**"
   ]
  },
  {
   "cell_type": "code",
   "execution_count": null,
   "id": "d019232a",
   "metadata": {},
   "outputs": [],
   "source": [
    "Family_Shopping_Region = family_shopping_region_crosstab.plot.bar()\n",
    "plt.title('Family Shopping Profile By Regions')\n",
    "plt.ylabel('Number of Customers normalized by Columns')"
   ]
  },
  {
   "cell_type": "code",
   "execution_count": null,
   "id": "b2451bdf",
   "metadata": {},
   "outputs": [],
   "source": [
    "Family_Shopping_Region.figure.savefig(os.path.join(path,'Analysis','Visualizations','Shopping_Family_Profile_Region_bar.png'),bbox_inches='tight')"
   ]
  },
  {
   "cell_type": "markdown",
   "id": "ea4efde9",
   "metadata": {},
   "source": [
    "**Family Status and Region**"
   ]
  },
  {
   "cell_type": "code",
   "execution_count": null,
   "id": "51116a9f",
   "metadata": {},
   "outputs": [],
   "source": [
    "family_stats_region_crosstab.plot.bar()"
   ]
  },
  {
   "cell_type": "code",
   "execution_count": null,
   "id": "18e33538",
   "metadata": {},
   "outputs": [],
   "source": []
  },
  {
   "cell_type": "code",
   "execution_count": null,
   "id": "331274d7",
   "metadata": {},
   "outputs": [],
   "source": []
  },
  {
   "cell_type": "code",
   "execution_count": null,
   "id": "2988023b",
   "metadata": {},
   "outputs": [],
   "source": []
  },
  {
   "cell_type": "code",
   "execution_count": null,
   "id": "c38811e3",
   "metadata": {},
   "outputs": [],
   "source": []
  },
  {
   "cell_type": "markdown",
   "id": "e6ed1b8f",
   "metadata": {},
   "source": [
    "**Departments**"
   ]
  },
  {
   "cell_type": "markdown",
   "id": "735c5955",
   "metadata": {},
   "source": [
    "**Number of Orders per Departments**"
   ]
  },
  {
   "cell_type": "code",
   "execution_count": null,
   "id": "48ae075e",
   "metadata": {},
   "outputs": [],
   "source": [
    "\n",
    "var11 = instacart_with_customers['department_id'].value_counts(dropna = False).plot(kind = 'bar', stacked = True)\n",
    "\n",
    "var11.legend(bbox_to_anchor=(1, 1.02))\n",
    "plt.title('Orders per departments')\n",
    "plt.ylabel('Order numbers')\n",
    "plt.xlabel('Department number')"
   ]
  },
  {
   "cell_type": "code",
   "execution_count": null,
   "id": "93daa44c",
   "metadata": {},
   "outputs": [],
   "source": [
    "var11.figure.savefig(os.path.join(path,'Analysis','Visualizations','Orders_Departments.png'),bbox_inches='tight')"
   ]
  },
  {
   "cell_type": "markdown",
   "id": "081c9ba3",
   "metadata": {},
   "source": [
    "**Age Profile and Departments**"
   ]
  },
  {
   "cell_type": "code",
   "execution_count": null,
   "id": "d258d2f2",
   "metadata": {},
   "outputs": [],
   "source": [
    "ax = plt.axes()\n",
    "age_department = sns.heatmap(age_department_crosstab, cmap=\"Reds\", linewidth=0.50, xticklabels=True, yticklabels=True,ax = ax)\n",
    "ax.set_title('Age Profile and Departments')"
   ]
  },
  {
   "cell_type": "code",
   "execution_count": null,
   "id": "67e4f35f",
   "metadata": {},
   "outputs": [],
   "source": [
    "#Saving the Visualization\n",
    "age_department.figure.savefig(os.path.join(path,'Analysis','Visualizations','Department_Age_Heatmap.png'),bbox_inches='tight')"
   ]
  },
  {
   "cell_type": "markdown",
   "id": "dbeac053",
   "metadata": {},
   "source": [
    "**Income Profile and Departments**"
   ]
  },
  {
   "cell_type": "code",
   "execution_count": null,
   "id": "035682e1",
   "metadata": {},
   "outputs": [],
   "source": [
    "ax = plt.axes()\n",
    "income_department = sns.heatmap(income_department_crosstab, cmap=\"Reds\", linewidth=0.50, xticklabels=True, yticklabels=True,ax = ax)\n",
    "ax.set_title('Income Profile and Departments')"
   ]
  },
  {
   "cell_type": "code",
   "execution_count": null,
   "id": "b5e7e6a7",
   "metadata": {},
   "outputs": [],
   "source": [
    "income_department.figure.savefig(os.path.join(path,'Analysis','Visualizations','Department_Income_Heatmap.png'),bbox_inches='tight')"
   ]
  },
  {
   "cell_type": "markdown",
   "id": "3b3fad6a",
   "metadata": {},
   "source": [
    "**Vegetarian Flag**"
   ]
  },
  {
   "cell_type": "code",
   "execution_count": null,
   "id": "5331c907",
   "metadata": {},
   "outputs": [],
   "source": [
    "ax = plt.axes()\n",
    "veg_department = sns.heatmap(veg_department_crosstab, cmap=\"Reds\", linewidth=0.50, xticklabels=True, yticklabels=True,ax = ax)\n",
    "ax.set_title('Diet Profile and Departments')"
   ]
  },
  {
   "cell_type": "code",
   "execution_count": null,
   "id": "1f0a24a2",
   "metadata": {},
   "outputs": [],
   "source": [
    "veg_department.figure.savefig(os.path.join(path,'Analysis','Visualizations','Department_Veg_Flag_Heatmap.png'),bbox_inches='tight')"
   ]
  },
  {
   "cell_type": "markdown",
   "id": "12d54efb",
   "metadata": {},
   "source": [
    "**Family Status**"
   ]
  },
  {
   "cell_type": "code",
   "execution_count": null,
   "id": "976450f2",
   "metadata": {},
   "outputs": [],
   "source": [
    "ax = plt.axes()\n",
    "family_stats_department = sns.heatmap(family_stats_department_crosstab, cmap=\"Reds\", linewidth=0.50, xticklabels=True, yticklabels=True,ax = ax)\n",
    "ax.set_title('Family Status and Departments')"
   ]
  },
  {
   "cell_type": "code",
   "execution_count": null,
   "id": "b7f3595b",
   "metadata": {},
   "outputs": [],
   "source": [
    "family_stats_department.figure.savefig(os.path.join(path,'Analysis','Visualizations','Department_Family_stats_Heatmap.png'),bbox_inches='tight')"
   ]
  },
  {
   "cell_type": "markdown",
   "id": "7d4a1739",
   "metadata": {},
   "source": [
    "**Shopping Habits by Age and Day of Week**"
   ]
  },
  {
   "cell_type": "code",
   "execution_count": null,
   "id": "4a81bc58",
   "metadata": {},
   "outputs": [],
   "source": [
    "ax = plt.axes()\n",
    "shopping_habits_department = sns.heatmap(shopping_habits_department_crosstab, cmap=\"Reds\", linewidth=1, xticklabels=True, yticklabels=True, ax = ax)\n",
    "ax.set_title('Shopping Habits by Age with Day of Week and Departments')"
   ]
  },
  {
   "cell_type": "code",
   "execution_count": null,
   "id": "2acfe680",
   "metadata": {},
   "outputs": [],
   "source": [
    "shopping_habits_department.figure.savefig(os.path.join(path,'Analysis','Visualizations','Department_Shopping_habits_Heatmap.png'),bbox_inches='tight')"
   ]
  },
  {
   "cell_type": "markdown",
   "id": "f8d290d4",
   "metadata": {},
   "source": [
    "**Family Shopping Status and Order of Week by Department**"
   ]
  },
  {
   "cell_type": "code",
   "execution_count": null,
   "id": "de7e3dba",
   "metadata": {},
   "outputs": [],
   "source": [
    "shopping_family_department = sns.heatmap(family_shopping_department_crosstab, cmap=\"Reds\", linewidth=1, xticklabels=True, yticklabels=True)\n",
    "plt.title('Family Shopping Status By Department')"
   ]
  },
  {
   "cell_type": "code",
   "execution_count": null,
   "id": "78a7a464",
   "metadata": {},
   "outputs": [],
   "source": [
    "shopping_family_department.figure.savefig(os.path.join(path,'Analysis','Visualizations','Department_Shopping_family_Heatmap.png'),bbox_inches='tight')"
   ]
  },
  {
   "cell_type": "markdown",
   "id": "55f0833d",
   "metadata": {},
   "source": [
    "## Question 10"
   ]
  },
  {
   "cell_type": "markdown",
   "id": "83a03846",
   "metadata": {},
   "source": [
    "**Tidy up your script, export your final data set, and save your notebook.**"
   ]
  },
  {
   "cell_type": "code",
   "execution_count": null,
   "id": "502d3a69",
   "metadata": {},
   "outputs": [],
   "source": [
    "#instacart_with_customers.to_pickle(os.path.join(path,'Data','Prepared Data','instacart_with_customers_final.pkl'))"
   ]
  },
  {
   "cell_type": "code",
   "execution_count": null,
   "id": "bab61646",
   "metadata": {},
   "outputs": [],
   "source": [
    "instacart_with_customers.info()"
   ]
  },
  {
   "cell_type": "code",
   "execution_count": null,
   "id": "fd73c0e7",
   "metadata": {},
   "outputs": [],
   "source": []
  },
  {
   "cell_type": "code",
   "execution_count": null,
   "id": "d359233c",
   "metadata": {},
   "outputs": [],
   "source": []
  },
  {
   "cell_type": "code",
   "execution_count": null,
   "id": "a49ec47c",
   "metadata": {},
   "outputs": [],
   "source": []
  }
 ],
 "metadata": {
  "kernelspec": {
   "display_name": "Python 3 (ipykernel)",
   "language": "python",
   "name": "python3"
  },
  "language_info": {
   "codemirror_mode": {
    "name": "ipython",
    "version": 3
   },
   "file_extension": ".py",
   "mimetype": "text/x-python",
   "name": "python",
   "nbconvert_exporter": "python",
   "pygments_lexer": "ipython3",
   "version": "3.9.13"
  }
 },
 "nbformat": 4,
 "nbformat_minor": 5
}
